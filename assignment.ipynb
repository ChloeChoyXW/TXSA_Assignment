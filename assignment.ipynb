{
 "cells": [
  {
   "cell_type": "code",
   "execution_count": 1,
   "metadata": {},
   "outputs": [],
   "source": [
    "import pandas as pd\n",
    "import re\n",
    "import emoji\n",
    "import string\n",
    "from emoticon_lib import replace_emoticons_with_text\n",
    "from deep_translator import (GoogleTranslator)\n",
    "import html\n",
    "from nltk import word_tokenize\n",
    "from nltk.stem import WordNetLemmatizer\n",
    "from nltk.corpus import stopwords\n",
    "import contractions\n",
    "import numpy as np\n",
    "from symspellpy import SymSpell, Verbosity\n",
    "#import sys\n",
    "#print(sys.executable)\n",
    "#%pip install wordcloud\n",
    "#%pip install contractions"
   ]
  },
  {
   "cell_type": "code",
   "execution_count": 12,
   "metadata": {},
   "outputs": [],
   "source": [
    "df = pd.read_csv('cyberbullying_tweets.csv')"
   ]
  },
  {
   "cell_type": "markdown",
   "metadata": {},
   "source": [
    "DATA UNDERSTANDING"
   ]
  },
  {
   "cell_type": "code",
   "execution_count": 5,
   "metadata": {},
   "outputs": [
    {
     "data": {
      "text/html": [
       "<div>\n",
       "<style scoped>\n",
       "    .dataframe tbody tr th:only-of-type {\n",
       "        vertical-align: middle;\n",
       "    }\n",
       "\n",
       "    .dataframe tbody tr th {\n",
       "        vertical-align: top;\n",
       "    }\n",
       "\n",
       "    .dataframe thead th {\n",
       "        text-align: right;\n",
       "    }\n",
       "</style>\n",
       "<table border=\"1\" class=\"dataframe\">\n",
       "  <thead>\n",
       "    <tr style=\"text-align: right;\">\n",
       "      <th></th>\n",
       "      <th>tweet_text</th>\n",
       "      <th>cyberbullying_type</th>\n",
       "    </tr>\n",
       "  </thead>\n",
       "  <tbody>\n",
       "    <tr>\n",
       "      <th>0</th>\n",
       "      <td>In other words #katandandre, your food was cra...</td>\n",
       "      <td>not_cyberbullying</td>\n",
       "    </tr>\n",
       "    <tr>\n",
       "      <th>1</th>\n",
       "      <td>Why is #aussietv so white? #MKR #theblock #ImA...</td>\n",
       "      <td>not_cyberbullying</td>\n",
       "    </tr>\n",
       "    <tr>\n",
       "      <th>2</th>\n",
       "      <td>@XochitlSuckkks a classy whore? Or more red ve...</td>\n",
       "      <td>not_cyberbullying</td>\n",
       "    </tr>\n",
       "    <tr>\n",
       "      <th>3</th>\n",
       "      <td>@Jason_Gio meh. :P  thanks for the heads up, b...</td>\n",
       "      <td>not_cyberbullying</td>\n",
       "    </tr>\n",
       "    <tr>\n",
       "      <th>4</th>\n",
       "      <td>@RudhoeEnglish This is an ISIS account pretend...</td>\n",
       "      <td>not_cyberbullying</td>\n",
       "    </tr>\n",
       "  </tbody>\n",
       "</table>\n",
       "</div>"
      ],
      "text/plain": [
       "                                          tweet_text cyberbullying_type\n",
       "0  In other words #katandandre, your food was cra...  not_cyberbullying\n",
       "1  Why is #aussietv so white? #MKR #theblock #ImA...  not_cyberbullying\n",
       "2  @XochitlSuckkks a classy whore? Or more red ve...  not_cyberbullying\n",
       "3  @Jason_Gio meh. :P  thanks for the heads up, b...  not_cyberbullying\n",
       "4  @RudhoeEnglish This is an ISIS account pretend...  not_cyberbullying"
      ]
     },
     "execution_count": 5,
     "metadata": {},
     "output_type": "execute_result"
    }
   ],
   "source": [
    "df.head()"
   ]
  },
  {
   "cell_type": "code",
   "execution_count": 19,
   "metadata": {},
   "outputs": [
    {
     "data": {
      "text/html": [
       "<div>\n",
       "<style scoped>\n",
       "    .dataframe tbody tr th:only-of-type {\n",
       "        vertical-align: middle;\n",
       "    }\n",
       "\n",
       "    .dataframe tbody tr th {\n",
       "        vertical-align: top;\n",
       "    }\n",
       "\n",
       "    .dataframe thead th {\n",
       "        text-align: right;\n",
       "    }\n",
       "</style>\n",
       "<table border=\"1\" class=\"dataframe\">\n",
       "  <thead>\n",
       "    <tr style=\"text-align: right;\">\n",
       "      <th></th>\n",
       "      <th>tweet_text</th>\n",
       "      <th>cyberbullying_type</th>\n",
       "    </tr>\n",
       "  </thead>\n",
       "  <tbody>\n",
       "    <tr>\n",
       "      <th>47687</th>\n",
       "      <td>Black ppl aren't expected to do anything, depe...</td>\n",
       "      <td>ethnicity</td>\n",
       "    </tr>\n",
       "    <tr>\n",
       "      <th>47688</th>\n",
       "      <td>Turner did not withhold his disappointment. Tu...</td>\n",
       "      <td>ethnicity</td>\n",
       "    </tr>\n",
       "    <tr>\n",
       "      <th>47689</th>\n",
       "      <td>I swear to God. This dumb nigger bitch. I have...</td>\n",
       "      <td>ethnicity</td>\n",
       "    </tr>\n",
       "    <tr>\n",
       "      <th>47690</th>\n",
       "      <td>Yea fuck you RT @therealexel: IF YOURE A NIGGE...</td>\n",
       "      <td>ethnicity</td>\n",
       "    </tr>\n",
       "    <tr>\n",
       "      <th>47691</th>\n",
       "      <td>Bro. U gotta chill RT @CHILLShrammy: Dog FUCK ...</td>\n",
       "      <td>ethnicity</td>\n",
       "    </tr>\n",
       "  </tbody>\n",
       "</table>\n",
       "</div>"
      ],
      "text/plain": [
       "                                              tweet_text cyberbullying_type\n",
       "47687  Black ppl aren't expected to do anything, depe...          ethnicity\n",
       "47688  Turner did not withhold his disappointment. Tu...          ethnicity\n",
       "47689  I swear to God. This dumb nigger bitch. I have...          ethnicity\n",
       "47690  Yea fuck you RT @therealexel: IF YOURE A NIGGE...          ethnicity\n",
       "47691  Bro. U gotta chill RT @CHILLShrammy: Dog FUCK ...          ethnicity"
      ]
     },
     "execution_count": 19,
     "metadata": {},
     "output_type": "execute_result"
    }
   ],
   "source": [
    "df.tail()"
   ]
  },
  {
   "cell_type": "code",
   "execution_count": 13,
   "metadata": {},
   "outputs": [
    {
     "data": {
      "text/plain": [
       "(47692, 2)"
      ]
     },
     "execution_count": 13,
     "metadata": {},
     "output_type": "execute_result"
    }
   ],
   "source": [
    "df.shape"
   ]
  },
  {
   "cell_type": "code",
   "execution_count": 6,
   "metadata": {},
   "outputs": [
    {
     "name": "stdout",
     "output_type": "stream",
     "text": [
      "<class 'pandas.core.frame.DataFrame'>\n",
      "RangeIndex: 47692 entries, 0 to 47691\n",
      "Data columns (total 2 columns):\n",
      " #   Column              Non-Null Count  Dtype \n",
      "---  ------              --------------  ----- \n",
      " 0   tweet_text          47692 non-null  object\n",
      " 1   cyberbullying_type  47692 non-null  object\n",
      "dtypes: object(2)\n",
      "memory usage: 745.3+ KB\n"
     ]
    }
   ],
   "source": [
    "df.info()"
   ]
  },
  {
   "cell_type": "code",
   "execution_count": 7,
   "metadata": {},
   "outputs": [
    {
     "data": {
      "text/html": [
       "<div>\n",
       "<style scoped>\n",
       "    .dataframe tbody tr th:only-of-type {\n",
       "        vertical-align: middle;\n",
       "    }\n",
       "\n",
       "    .dataframe tbody tr th {\n",
       "        vertical-align: top;\n",
       "    }\n",
       "\n",
       "    .dataframe thead th {\n",
       "        text-align: right;\n",
       "    }\n",
       "</style>\n",
       "<table border=\"1\" class=\"dataframe\">\n",
       "  <thead>\n",
       "    <tr style=\"text-align: right;\">\n",
       "      <th></th>\n",
       "      <th>tweet_text</th>\n",
       "      <th>cyberbullying_type</th>\n",
       "    </tr>\n",
       "  </thead>\n",
       "  <tbody>\n",
       "    <tr>\n",
       "      <th>count</th>\n",
       "      <td>47692</td>\n",
       "      <td>47692</td>\n",
       "    </tr>\n",
       "    <tr>\n",
       "      <th>unique</th>\n",
       "      <td>46017</td>\n",
       "      <td>6</td>\n",
       "    </tr>\n",
       "    <tr>\n",
       "      <th>top</th>\n",
       "      <td>RT @sailorhg: the intro for my hardware hackin...</td>\n",
       "      <td>religion</td>\n",
       "    </tr>\n",
       "    <tr>\n",
       "      <th>freq</th>\n",
       "      <td>2</td>\n",
       "      <td>7998</td>\n",
       "    </tr>\n",
       "  </tbody>\n",
       "</table>\n",
       "</div>"
      ],
      "text/plain": [
       "                                               tweet_text cyberbullying_type\n",
       "count                                               47692              47692\n",
       "unique                                              46017                  6\n",
       "top     RT @sailorhg: the intro for my hardware hackin...           religion\n",
       "freq                                                    2               7998"
      ]
     },
     "execution_count": 7,
     "metadata": {},
     "output_type": "execute_result"
    }
   ],
   "source": [
    "df.describe()"
   ]
  },
  {
   "cell_type": "code",
   "execution_count": 8,
   "metadata": {},
   "outputs": [
    {
     "data": {
      "text/plain": [
       "tweet_text            0\n",
       "cyberbullying_type    0\n",
       "dtype: int64"
      ]
     },
     "execution_count": 8,
     "metadata": {},
     "output_type": "execute_result"
    }
   ],
   "source": [
    "df.isna().sum()"
   ]
  },
  {
   "cell_type": "code",
   "execution_count": 10,
   "metadata": {},
   "outputs": [
    {
     "data": {
      "text/plain": [
       "array(['not_cyberbullying', 'gender', 'religion', 'other_cyberbullying',\n",
       "       'age', 'ethnicity'], dtype=object)"
      ]
     },
     "execution_count": 10,
     "metadata": {},
     "output_type": "execute_result"
    }
   ],
   "source": [
    "# Unique values of target variable\n",
    "df.cyberbullying_type.unique()"
   ]
  },
  {
   "cell_type": "code",
   "execution_count": 12,
   "metadata": {},
   "outputs": [
    {
     "data": {
      "text/plain": [
       "religion               7998\n",
       "age                    7992\n",
       "gender                 7973\n",
       "ethnicity              7961\n",
       "not_cyberbullying      7945\n",
       "other_cyberbullying    7823\n",
       "Name: cyberbullying_type, dtype: int64"
      ]
     },
     "execution_count": 12,
     "metadata": {},
     "output_type": "execute_result"
    }
   ],
   "source": [
    "# Count of values of target variable\n",
    "df['cyberbullying_type'].value_counts()"
   ]
  },
  {
   "cell_type": "code",
   "execution_count": 18,
   "metadata": {},
   "outputs": [
    {
     "name": "stdout",
     "output_type": "stream",
     "text": [
      "Num of Duplicated Rows: 0\n"
     ]
    }
   ],
   "source": [
    "print('Num of Duplicated Rows:', df.duplicated().sum())"
   ]
  },
  {
   "cell_type": "markdown",
   "metadata": {},
   "source": [
    "DATA CLEANING"
   ]
  },
  {
   "cell_type": "code",
   "execution_count": 13,
   "metadata": {},
   "outputs": [],
   "source": [
    "# Remove Duplicates\n",
    "df =df.drop_duplicates(subset='tweet_text', keep=\"last\")"
   ]
  },
  {
   "cell_type": "code",
   "execution_count": 14,
   "metadata": {},
   "outputs": [
    {
     "name": "stdout",
     "output_type": "stream",
     "text": [
      "|    | tweet_text                                                                                                                          | cyberbullying_type   |\n",
      "|---:|:------------------------------------------------------------------------------------------------------------------------------------|:---------------------|\n",
      "|  0 | In other words #katandandre, your food was crapilicious! #mkr                                                                       | not_cyberbullying    |\n",
      "|  1 | Why is #aussietv so white? #MKR #theblock #ImACelebrityAU #today #sunrise #studio10 #Neighbours #WonderlandTen #etc                 | not_cyberbullying    |\n",
      "|  2 | @XochitlSuckkks a classy whore? Or more red velvet cupcakes?                                                                        | not_cyberbullying    |\n",
      "|  4 | @RudhoeEnglish This is an ISIS account pretending to be a Kurdish account.  Like Islam, it is all lies.                             | not_cyberbullying    |\n",
      "|  5 | @Raja5aab @Quickieleaks Yes, the test of god is that good or bad or indifferent or weird or whatever, it all proves gods existence. | not_cyberbullying    |\n",
      "|  6 | Itu sekolah ya bukan tempat bully! Ga jauh kaya neraka                                                                              | not_cyberbullying    |\n",
      "|  7 | Karma. I hope it bites Kat on the butt. She is just nasty. #mkr                                                                     | not_cyberbullying    |\n",
      "|  9 | Rebecca Black Drops Out of School Due to Bullying:                                                                                  | not_cyberbullying    |\n",
      "| 10 | @Jord_Is_Dead http://t.co/UsQInYW5Gn                                                                                                | not_cyberbullying    |\n",
      "| 11 | The Bully flushes on KD http://twitvid.com/A2TNP                                                                                    | not_cyberbullying    |\n"
     ]
    }
   ],
   "source": [
    "# Expand contraction\n",
    "df['tweet_text'] = df['tweet_text'].apply(lambda e: contractions.fix(e))\n",
    "# df.head(10)\n",
    "print(df.head(10).to_markdown())"
   ]
  },
  {
   "cell_type": "code",
   "execution_count": 15,
   "metadata": {},
   "outputs": [],
   "source": [
    "#Remove html tags\n",
    "df['tweet_text'] = df['tweet_text'].apply(lambda e: html.unescape(e))"
   ]
  },
  {
   "cell_type": "code",
   "execution_count": 16,
   "metadata": {},
   "outputs": [],
   "source": [
    "# Remove emoticons\n",
    "df['tweet_text'] = df['tweet_text'].apply(lambda e: replace_emoticons_with_text(e))"
   ]
  },
  {
   "cell_type": "code",
   "execution_count": 17,
   "metadata": {},
   "outputs": [
    {
     "name": "stdout",
     "output_type": "stream",
     "text": [
      "|    | tweet_text                                                                                                                          | cyberbullying_type   |\n",
      "|---:|:------------------------------------------------------------------------------------------------------------------------------------|:---------------------|\n",
      "|  0 | In other words #katandandre, your food was crapilicious! #mkr                                                                       | not_cyberbullying    |\n",
      "|  1 | Why is #aussietv so white? #MKR #theblock #ImACelebrityAU #today #sunrise #studio10 #Neighbours #WonderlandTen #etc                 | not_cyberbullying    |\n",
      "|  2 | @XochitlSuckkks a classy whore? Or more red velvet cupcakes?                                                                        | not_cyberbullying    |\n",
      "|  4 | @RudhoeEnglish This is an ISIS account pretending to be a Kurdish account.  Like Islam, it is all lies.                             | not_cyberbullying    |\n",
      "|  5 | @Raja5aab @Quickieleaks Yes, the test of god is that good or bad or indifferent or weird or whatever, it all proves gods existence. | not_cyberbullying    |\n",
      "|  6 | Itu sekolah ya bukan tempat bully! Ga jauh kaya neraka                                                                              | not_cyberbullying    |\n",
      "|  7 | Karma. I hope it bites Kat on the butt. She is just nasty. #mkr                                                                     | not_cyberbullying    |\n",
      "|  9 | Rebecca Black Drops Out of School Due to Bullying:                                                                                  | not_cyberbullying    |\n",
      "| 10 | @Jord_Is_Dead httpSkeptical, annoyed, undecided, uneasy or hesitant/t.co/UsQInYW5Gn                                                 | not_cyberbullying    |\n",
      "| 11 | The Bully flushes on KD httpSkeptical, annoyed, undecided, uneasy or hesitant/twitvid.com/A2TNP                                     | not_cyberbullying    |\n"
     ]
    }
   ],
   "source": [
    "# Remove email \n",
    "df['tweet_text'] = df['tweet_text'].apply(lambda e: re.sub(r\"\\S+@\\S+(?:\\.\\S+)+\", \"\", e))\n",
    "print(df.head(10).to_markdown())"
   ]
  },
  {
   "cell_type": "code",
   "execution_count": 18,
   "metadata": {},
   "outputs": [
    {
     "name": "stdout",
     "output_type": "stream",
     "text": [
      "|    | tweet_text                                                                                                  | cyberbullying_type   |\n",
      "|---:|:------------------------------------------------------------------------------------------------------------|:---------------------|\n",
      "|  0 | In other words  your food was crapilicious!                                                                 | not_cyberbullying    |\n",
      "|  1 | Why is  so white?                                                                                           | not_cyberbullying    |\n",
      "|  2 | a classy whore? Or more red velvet cupcakes?                                                                | not_cyberbullying    |\n",
      "|  4 | This is an ISIS account pretending to be a Kurdish account.  Like Islam, it is all lies.                    | not_cyberbullying    |\n",
      "|  5 | Yes, the test of god is that good or bad or indifferent or weird or whatever, it all proves gods existence. | not_cyberbullying    |\n",
      "|  6 | Itu sekolah ya bukan tempat bully! Ga jauh kaya neraka                                                      | not_cyberbullying    |\n",
      "|  7 | Karma. I hope it bites Kat on the butt. She is just nasty.                                                  | not_cyberbullying    |\n",
      "|  9 | Rebecca Black Drops Out of School Due to Bullying:                                                          | not_cyberbullying    |\n",
      "| 10 | annoyed, undecided, uneasy or hesitant/t.co/UsQInYW5Gn                                                      | not_cyberbullying    |\n",
      "| 11 | The Bully flushes on KD  annoyed, undecided, uneasy or hesitant/twitvid.com/A2TNP                           | not_cyberbullying    |\n"
     ]
    }
   ],
   "source": [
    "## Remove RT, #, URL and @: \n",
    "df['tweet_text'] = df['tweet_text'].apply(lambda e: re.sub(r\"(RT)|(?:\\@|\\#|https?|http?|www)\\S+\", \"\", e))\n",
    "print(df.head(10).to_markdown())"
   ]
  },
  {
   "cell_type": "code",
   "execution_count": 19,
   "metadata": {},
   "outputs": [],
   "source": [
    "# Replace underscore\n",
    "df['tweet_text'] = df['tweet_text'].apply(lambda e: e.replace('_', ' '))"
   ]
  },
  {
   "cell_type": "code",
   "execution_count": 20,
   "metadata": {},
   "outputs": [],
   "source": [
    "# Change emojis to text\n",
    "df['tweet_text'] = df['tweet_text'].apply(lambda e: emoji.demojize(e, language=\"en\"))"
   ]
  },
  {
   "cell_type": "code",
   "execution_count": 21,
   "metadata": {},
   "outputs": [],
   "source": [
    "# Replace underscore (space) and : (remove)\n",
    "df['tweet_text'] = df['tweet_text'].apply(lambda e: e.replace('_', ' '))\n",
    "df['tweet_text'] = df['tweet_text'].apply(lambda e: e.replace(':', ''))"
   ]
  },
  {
   "cell_type": "code",
   "execution_count": 22,
   "metadata": {},
   "outputs": [
    {
     "data": {
      "text/html": [
       "<div>\n",
       "<style scoped>\n",
       "    .dataframe tbody tr th:only-of-type {\n",
       "        vertical-align: middle;\n",
       "    }\n",
       "\n",
       "    .dataframe tbody tr th {\n",
       "        vertical-align: top;\n",
       "    }\n",
       "\n",
       "    .dataframe thead th {\n",
       "        text-align: right;\n",
       "    }\n",
       "</style>\n",
       "<table border=\"1\" class=\"dataframe\">\n",
       "  <thead>\n",
       "    <tr style=\"text-align: right;\">\n",
       "      <th></th>\n",
       "      <th>tweet_text</th>\n",
       "      <th>cyberbullying_type</th>\n",
       "    </tr>\n",
       "  </thead>\n",
       "  <tbody>\n",
       "    <tr>\n",
       "      <th>0</th>\n",
       "      <td>In other words your food was crap i licious</td>\n",
       "      <td>not_cyberbullying</td>\n",
       "    </tr>\n",
       "    <tr>\n",
       "      <th>1</th>\n",
       "      <td>Why is so white</td>\n",
       "      <td>not_cyberbullying</td>\n",
       "    </tr>\n",
       "    <tr>\n",
       "      <th>2</th>\n",
       "      <td>a classy whore Or more red velvet cupcakes</td>\n",
       "      <td>not_cyberbullying</td>\n",
       "    </tr>\n",
       "    <tr>\n",
       "      <th>4</th>\n",
       "      <td>This is an IS IS account pretending to be a Ku...</td>\n",
       "      <td>not_cyberbullying</td>\n",
       "    </tr>\n",
       "    <tr>\n",
       "      <th>5</th>\n",
       "      <td>Yes the test of god is that good or bad or in ...</td>\n",
       "      <td>not_cyberbullying</td>\n",
       "    </tr>\n",
       "    <tr>\n",
       "      <th>6</th>\n",
       "      <td>It u sekolah ya buk an temp at bully Ga j a uh...</td>\n",
       "      <td>not_cyberbullying</td>\n",
       "    </tr>\n",
       "    <tr>\n",
       "      <th>7</th>\n",
       "      <td>Karma I hope it bites Kat on the butt She is j...</td>\n",
       "      <td>not_cyberbullying</td>\n",
       "    </tr>\n",
       "    <tr>\n",
       "      <th>9</th>\n",
       "      <td>Rebecca Black Drops Out of School Due to Bullying</td>\n",
       "      <td>not_cyberbullying</td>\n",
       "    </tr>\n",
       "    <tr>\n",
       "      <th>10</th>\n",
       "      <td>annoyed undecided uneasy or hesitant t co Us Q...</td>\n",
       "      <td>not_cyberbullying</td>\n",
       "    </tr>\n",
       "    <tr>\n",
       "      <th>11</th>\n",
       "      <td>The Bully flushes on K D annoyed undecided une...</td>\n",
       "      <td>not_cyberbullying</td>\n",
       "    </tr>\n",
       "  </tbody>\n",
       "</table>\n",
       "</div>"
      ],
      "text/plain": [
       "                                           tweet_text cyberbullying_type\n",
       "0         In other words your food was crap i licious  not_cyberbullying\n",
       "1                                     Why is so white  not_cyberbullying\n",
       "2          a classy whore Or more red velvet cupcakes  not_cyberbullying\n",
       "4   This is an IS IS account pretending to be a Ku...  not_cyberbullying\n",
       "5   Yes the test of god is that good or bad or in ...  not_cyberbullying\n",
       "6   It u sekolah ya buk an temp at bully Ga j a uh...  not_cyberbullying\n",
       "7   Karma I hope it bites Kat on the butt She is j...  not_cyberbullying\n",
       "9   Rebecca Black Drops Out of School Due to Bullying  not_cyberbullying\n",
       "10  annoyed undecided uneasy or hesitant t co Us Q...  not_cyberbullying\n",
       "11  The Bully flushes on K D annoyed undecided une...  not_cyberbullying"
      ]
     },
     "execution_count": 22,
     "metadata": {},
     "output_type": "execute_result"
    }
   ],
   "source": [
    "# Word Segmentation  \n",
    "import wordninja\n",
    "df['tweet_text'] = df['tweet_text'].apply(lambda x: ' '.join(wordninja.split(x)))\n",
    "df.head(10)    "
   ]
  },
  {
   "cell_type": "code",
   "execution_count": 23,
   "metadata": {},
   "outputs": [
    {
     "name": "stdout",
     "output_type": "stream",
     "text": [
      "|    | tweet_text                                                                                                                                                          | cyberbullying_type   |\n",
      "|---:|:--------------------------------------------------------------------------------------------------------------------------------------------------------------------|:---------------------|\n",
      "|  0 | In other words your food was crap i licious                                                                                                                         | not_cyberbullying    |\n",
      "|  1 | Why is so white                                                                                                                                                     | not_cyberbullying    |\n",
      "|  2 | a classy whore Or more red velvet cupcakes                                                                                                                          | not_cyberbullying    |\n",
      "|  4 | This is an IS IS account pretending to be a Kurdish account Like Islam it is all lies                                                                               | not_cyberbullying    |\n",
      "|  5 | Yes the test of god is that good or bad or in different or weird or whatever it all proves gods existence                                                           | not_cyberbullying    |\n",
      "|  6 | It u sekolah ya buk an temp at bully Ga j a uh kaya ne raka                                                                                                         | not_cyberbullying    |\n",
      "|  7 | Karma I hope it bites Kat on the butt She is just nasty                                                                                                             | not_cyberbullying    |\n",
      "|  9 | Rebecca Black Drops Out of School Due to Bullying                                                                                                                   | not_cyberbullying    |\n",
      "| 10 | annoyed undecided uneasy or hesitant t co Us QIn Y W 5 Gn                                                                                                           | not_cyberbullying    |\n",
      "| 11 | The Bully flushes on K D annoyed undecided uneasy or hesitant twit vid com A 2 T NP                                                                                 | not_cyberbullying    |\n",
      "| 12 | Ugh hh h                                                                                                                                                            | not_cyberbullying    |\n",
      "| 13 | Turkish state has killed 241 children in last 11 years annoyed undecided uneasy or hesitant t co J lv kE 1 ep ws                                                    | not_cyberbullying    |\n",
      "| 14 | Love that the best response to the hotcakes they managed to film was a non committal meh from some adolescent                                                       | not_cyberbullying    |\n",
      "| 15 | P ARE M DE FAZER BULLYING COM IGO UH A HUA H BANDO DE PRETO                                                                                                         | not_cyberbullying    |\n",
      "| 16 | tadi nhu de mim s of ren do bulling vi u MIMI '                                                                                                                     | not_cyberbullying    |\n",
      "| 18 | Best pick up line Hi you are cute I love how people call James Potter is a bully my patronus is you annoyed undecided uneasy or hesitant tumblr com x ol 3 xl 14 zy | not_cyberbullying    |\n",
      "| 19 | Now I got to walk to class s s I officially hate the stupid bus system                                                                                              | not_cyberbullying    |\n",
      "| 20 | I know Saudis chased girls into a burning building annoyed undecided uneasy or hesitant t co 8 b 1 A clc zN 9                                                       | not_cyberbullying    |\n",
      "| 21 | Kids Love face blowing a kiss red heart Mohamad Bin Zayed City annoyed undecided uneasy or hesitant t co 0 x r OZ S Nn                                              | not_cyberbullying    |\n",
      "| 22 | I still have Jack Amsterdam C iroc Crown Bud Light Lime a rita and CR U in my love handles I feel the jiggle when I walk                                            | not_cyberbullying    |\n",
      "|       | tweet_text                                                                                                                                                                                                                                                                      | cyberbullying_type   |\n",
      "|------:|:--------------------------------------------------------------------------------------------------------------------------------------------------------------------------------------------------------------------------------------------------------------------------------|:---------------------|\n",
      "| 47672 | A Harvard JD does not imply dumb AH YOU MAD BITCH SUCK THIS LONG SHADED S MULE FUCK OBAMA dumb as s nigger                                                                                                                                                                      | ethnicity            |\n",
      "| 47673 | EVERYONE STAYS HAT IN SORRY I LIKE TO BE HAPPY BLAST CHRISTMAS MUSIC ITS BETTER THAN YOUR DUMB NIGGER SHIT FUCK                                                                                                                                                                 | ethnicity            |\n",
      "| 47674 | Fuck you doris ya dumb nigger                                                                                                                                                                                                                                                   | ethnicity            |\n",
      "| 47675 | You all make sure you all following a nigga cat with tears of joy cat with tears of joy OK hand                                                                                                                                                                                 | ethnicity            |\n",
      "| 47676 | Dumb fuck wipe your as s bitch nigger cock munch er idiot                                                                                                                                                                                                                       | ethnicity            |\n",
      "| 47677 | why the fuck am I a dumb fucking nigger you dumb fucking nigger                                                                                                                                                                                                                 | ethnicity            |\n",
      "| 47678 | Why have I got someone on my timeline say in fuck david stern you a dumb as s nigger for say in that                                                                                                                                                                            | ethnicity            |\n",
      "| 47679 | i have noticed it is a trend on here you all have to be little accomplishments and make people feel like shit for simple stuff like graduating going back to school getting your first apartment or a new one buying a used car etc take that shit elsewhere fix you are spirit | ethnicity            |\n",
      "| 47680 | So a random Iowa fan pulls up in his car and sees me in a Michigan State shirt and says Fuck you and Michigan State you dumb nigger                                                                                                                                             | ethnicity            |\n",
      "| 47681 | As a black man I am not supporting music that tells me to go kill or harm another black man keep all that gang shit fuck the ops shit out my ear Niggers are dumb supporting that BS then be heartbroken when a black man dies by the hands of another                          | ethnicity            |\n",
      "| 47682 | But he is right Atlanta is full of so called shoot them up negros and a Wendy s was the best you could do The hood want respect from everybody but only want to do it to each other and never White Supremacy                                                                   | ethnicity            |\n",
      "| 47683 | Black is a color African American is a Culture Nigger means ignorant Learn your facts dumb fucks                                                                                                                                                                                | ethnicity            |\n",
      "| 47684 | After black soldiers fought in WWI many of them came home refusing to acquiesce to whiteness They would do crazy stuff like look white men in the eye and call them by their first names They called themselves the new negro who thought of themselves as equal to whites      | ethnicity            |\n",
      "| 47685 | Very true It was a nice show to watch until the racism incident Did Ricky pick anybody who was not white                                                                                                                                                                        | ethnicity            |\n",
      "| 47686 | shut the fuck up About your dumb as app your acting like a nagging nigger                                                                                                                                                                                                       | ethnicity            |\n",
      "| 47687 | Black people are not expected to do anything depended on for anything Yet free to participate work enjoy the freedom of humans all across this globe If you waste your energy on the past you will be wasting it for building the future                                        | ethnicity            |\n",
      "| 47688 | Turner did not withhold his disappointment Turner called the court an abominable conclave of negro hating demons with one exception who issued another decree that colored men and women must be driven into Jim Crow cars whenever it suits the whim of any white community    | ethnicity            |\n",
      "| 47689 | I swear to God This dumb nigger bitch I have got to bleach my hair re eeee al fuckin ' soon Disgust FUCK                                                                                                                                                                        | ethnicity            |\n",
      "| 47690 | Yea fuck you IF YOU ARE A NIGGER FUCKING UN FOLLOW ME FUCKING DUMB NIGGERS                                                                                                                                                                                                      | ethnicity            |\n",
      "| 47691 | Bro YOU got to chill Dog FUCK KP that dumb nigger bitch l mao                                                                                                                                                                                                                   | ethnicity            |\n"
     ]
    }
   ],
   "source": [
    "print(df.head(20).to_markdown())\n",
    "print(df.tail(20).to_markdown())"
   ]
  },
  {
   "cell_type": "code",
   "execution_count": 24,
   "metadata": {},
   "outputs": [],
   "source": [
    "# Remove digits\n",
    "df['tweet_text'] = df['tweet_text'].replace(to_replace=r'\\d', value='', regex=True)"
   ]
  },
  {
   "cell_type": "code",
   "execution_count": 25,
   "metadata": {},
   "outputs": [],
   "source": [
    "# Drop rows with nan or empty spaces \n",
    "df.replace(r'^\\s*$', np.nan, regex=True, inplace=True)\n",
    "df = df[df['tweet_text'].notna()]"
   ]
  },
  {
   "cell_type": "code",
   "execution_count": 26,
   "metadata": {},
   "outputs": [],
   "source": [
    "# Remove special characters and digits\n",
    "df['tweet_text'] = df['tweet_text'].apply(lambda e: re.sub(r'[^a-zA-Z ]', '', e))"
   ]
  },
  {
   "cell_type": "code",
   "execution_count": 27,
   "metadata": {},
   "outputs": [],
   "source": [
    "# Translate\n",
    "df['tweet_text'] = df['tweet_text'].apply(lambda e: GoogleTranslator(source='auto', target='en').translate(text = e))"
   ]
  },
  {
   "cell_type": "code",
   "execution_count": null,
   "metadata": {},
   "outputs": [],
   "source": [
    "# Remove punctuations\n",
    "# def remove_punctuations(text):\n",
    "#     remove_punc = [w for w in text if w not in string.punctuation]\n",
    "#     remove_punc = ''.join(remove_punc)\n",
    "#     return ''.join([wrd for wrd in remove_punc.split()])\n",
    "# df['tweet_text'] = df['tweet_text'].apply(remove_punctuations)\n"
   ]
  },
  {
   "cell_type": "code",
   "execution_count": null,
   "metadata": {},
   "outputs": [],
   "source": [
    "# Remove extra whitespaces after removing noise and punctuations\n",
    "def remove_extra_whitespaces(text):\n",
    "    # Replace multiple consecutive whitespaces with a single space\n",
    "    text = re.sub(r'\\s+', ' ', text) \n",
    "    return text.strip()  # Remove leading and trailing whitespaces\n",
    "df['tweet_text'] = df['tweet_text'].apply(remove_extra_whitespaces)"
   ]
  },
  {
   "cell_type": "code",
   "execution_count": null,
   "metadata": {},
   "outputs": [],
   "source": [
    "# Spelling Correction   SEEMS LIKE NOT WORKING\n",
    "# symsp = SymSpell()\n",
    "# symsp.load_dictionary('freq_dictionay_en.txt',term_index=0, count_index=1)\n",
    "# def correct_spelling(text):\n",
    "#     suggestions = symsp.lookup_compound(text, max_edit_distance=2)\n",
    "#     corrected_text = suggestions[0].term if suggestions else text\n",
    "#     return corrected_text\n",
    "# df['tweet_text'] = df['tweet_text'].apply(correct_spelling)\n"
   ]
  },
  {
   "cell_type": "code",
   "execution_count": null,
   "metadata": {},
   "outputs": [],
   "source": [
    "# Normalize Words / Remove repeating words with 1 or  (use regex) \n",
    "def remove_words_with_one_char_or_repeating_chars(text):   \n",
    "    text = re.sub(r'\\b\\w\\b', '', text)   # Remove words with 1 character\n",
    "    text = re.sub(r'\\b\\w*(\\w)\\1{2,}\\w*\\b', '', text)   # Remove words with 3 or more repeating characters\n",
    "    return text\n",
    "df['tweet_text'] = df['tweet_text'].apply(remove_words_with_one_char_or_repeating_chars)\n",
    "print(df)"
   ]
  },
  {
   "cell_type": "code",
   "execution_count": null,
   "metadata": {},
   "outputs": [],
   "source": [
    "# Convert to lower case\n",
    "df['tweet_text'] = df['tweet_text'].str.lower()"
   ]
  },
  {
   "cell_type": "code",
   "execution_count": null,
   "metadata": {},
   "outputs": [],
   "source": [
    "# Tokenization\n",
    "df['tweet_text'] = df.apply(lambda row: word_tokenize(row['tweet_text']), axis=1)\n",
    "print(df.head(10).to_markdown())\n",
    "\n",
    "# Remove stopwords\n",
    "stopword = stopwords.words('english')\n",
    "df['tweet_text'] = df['tweet_text'].apply(lambda e: ' '.join([word for word in e.split() if word not in (stopword)]))\n",
    "print(df.head(10).to_markdown())"
   ]
  },
  {
   "cell_type": "code",
   "execution_count": 11,
   "metadata": {},
   "outputs": [
    {
     "name": "stdout",
     "output_type": "stream",
     "text": [
      "'I' is a stopword.\n",
      "'like' is not a stopword.\n",
      "'i' is a stopword.\n",
      "'example' is not a stopword.\n",
      "'sentence' is not a stopword.\n",
      "'to' is a stopword.\n",
      "'test' is not a stopword.\n",
      "'stopwords' is not a stopword.\n"
     ]
    }
   ],
   "source": [
    "stopword = stopwords.words('english')\n",
    "stopword\n",
    "\n",
    "def is_stopword(word):\n",
    "    return word.lower() in stopword\n",
    "\n",
    "line = \"I like i example sentence to test stopwords\"\n",
    "words = line.split()\n",
    "\n",
    "for word in words:\n",
    "    if is_stopword(word):\n",
    "        print(f\"'{word}' is a stopword.\")\n",
    "    else:\n",
    "        print(f\"'{word}' is not a stopword.\")\n"
   ]
  },
  {
   "cell_type": "code",
   "execution_count": null,
   "metadata": {},
   "outputs": [],
   "source": [
    "# Lemmatization\n",
    "lemmatizer = WordNetLemmatizer()\n",
    "def lemmatize_words(text):\n",
    "    return ' '.join([lemmatizer.lemmatize(word) for word in text.split()])\n",
    "\n",
    "df[\"tweet_text\"] = df[\"tweet_text\"].apply(lambda e: lemmatize_words(e))"
   ]
  },
  {
   "cell_type": "code",
   "execution_count": null,
   "metadata": {},
   "outputs": [],
   "source": [
    "# Save processed dataset into new csv file\n",
    "df.to_csv('preprocessed_cyberbullying_tweet.csv', index=False)"
   ]
  }
 ],
 "metadata": {
  "kernelspec": {
   "display_name": "Python 3",
   "language": "python",
   "name": "python3"
  },
  "language_info": {
   "codemirror_mode": {
    "name": "ipython",
    "version": 3
   },
   "file_extension": ".py",
   "mimetype": "text/x-python",
   "name": "python",
   "nbconvert_exporter": "python",
   "pygments_lexer": "ipython3",
   "version": "3.10.5"
  }
 },
 "nbformat": 4,
 "nbformat_minor": 2
}
