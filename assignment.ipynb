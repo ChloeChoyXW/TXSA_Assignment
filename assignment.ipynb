{
 "cells": [
  {
   "cell_type": "code",
   "execution_count": 30,
   "metadata": {},
   "outputs": [
    {
     "name": "stdout",
     "output_type": "stream",
     "text": [
      "|    | tweet_text                                                                                                          | cyberbullying_type   |\n",
      "|---:|:--------------------------------------------------------------------------------------------------------------------|:---------------------|\n",
      "|  0 | In other words #katandandre, your food was crapilicious! #mkr                                                       | not_cyberbullying    |\n",
      "|  1 | Why is #aussietv so white? #MKR #theblock #ImACelebrityAU #today #sunrise #studio10 #Neighbours #WonderlandTen #etc | not_cyberbullying    |\n"
     ]
    }
   ],
   "source": [
    "import pandas as pd\n",
    "import re\n",
    "import seaborn as sbn\n",
    "import matplotlib.pyplot as plt\n",
    "import emoji\n",
    "import string\n",
    "from emoticon import emoticon\n",
    "from cleantext import clean\n",
    "from deep_translator import (GoogleTranslator)\n",
    "import csv\n",
    "\n",
    "# from emoticon_lib import emoticon_lib\n",
    "\n",
    "\n",
    "# Read data\n",
    "df = pd.read_csv('cyberbullying_tweets.csv')\n",
    "#show first 25 rows of data\n",
    "print(df.head(2).to_markdown())"
   ]
  },
  {
   "cell_type": "code",
   "execution_count": 31,
   "metadata": {},
   "outputs": [],
   "source": [
    "#EDA\n",
    "# print(df.info())\n",
    "# print(df.describe())\n",
    "# print(df.isna().sum())\n",
    "# print(df.columns.tolist())\n",
    "# print(df.cyberbullying_type.unique())\n",
    "# print(df.shape)\n",
    "# print('Duplicated data num:', df.duplicated().sum())\n",
    "\n",
    "# word cloud\n",
    "\n",
    "# print(df[df.duplicated()==True].to_markdown())\n"
   ]
  },
  {
   "cell_type": "code",
   "execution_count": null,
   "metadata": {},
   "outputs": [],
   "source": [
    "#Remove duplication\n",
    "# print(df.describe)\n",
    "# df =df.drop_duplicates(subset='tweet_text', keep=\"last\")\n",
    " ############\n",
    "#Change emojis and emoticon to text(in html code too)\n",
    "# df['tweet_text'] = df['tweet_text'].apply(lambda e: emoji.demojize(e, language=\"en\"))\n",
    "\n",
    "\n",
    "\n",
    "# ========================UNDER CONSTRUCTION====================================\n",
    "# Remove emoticons :/\n",
    "# https://pypi.org/project/emoticon/\n",
    "\n",
    "# # Remove RT, #, URL and @:\n",
    "# df['tweet_text'] = df['tweet_text'].apply(lambda e: re.sub(r\"(RT)|(:)|(@)|(?:\\@|\\#|https?|http?|www)\\S+\", \"\", e))\n",
    "\n",
    "#Remove URL & email\n",
    "# def remove_url_email(df):\n",
    "    # df['tweet_text'] = df['tweet_text'].apply(lambda e: clean(e, no_urls='True', no_emails='True', replace_with_url='', replace_with_email=''))\n",
    "\n",
    "\n",
    "#translate tweets\n",
    "# df['tweet_text'] = df['tweet_text'].apply(lambda e: GoogleTranslator(source='auto', target='en').translate(text=e))\n",
    "\n",
    "# def t(e):\n",
    "#     s = GoogleTranslator(source='auto', target='en').translate(text=e)\n",
    "#     print(s)\n",
    "\n",
    "# df['tweet_text'].apply(lambda e: t(e))\n",
    "\n",
    "\n",
    "# EDA to show mssing value\n",
    "# #Remove missing values in tweet_text after data cleaning\n",
    "# df = df[~df['tweet_text'].apply(str.isspace())]\n",
    "\n",
    "\n",
    "\n",
    "#Remove html tags beautiful soup\n",
    "\n",
    "\n",
    "# ========================UNDER CONSTRUCTION====================================\n",
    "\n",
    "\n",
    "# print(df.head(100).to_markdown())\n",
    "\n",
    "#Remove stopwords\n",
    "\n",
    "\n",
    "\n",
    "\n",
    "# tokenization\n",
    "\n",
    "# lemmatization\n",
    "\n",
    "#stemming\n"
   ]
  }
 ],
 "metadata": {
  "kernelspec": {
   "display_name": "Python 3",
   "language": "python",
   "name": "python3"
  },
  "language_info": {
   "codemirror_mode": {
    "name": "ipython",
    "version": 3
   },
   "file_extension": ".py",
   "mimetype": "text/x-python",
   "name": "python",
   "nbconvert_exporter": "python",
   "pygments_lexer": "ipython3",
   "version": "3.10.2"
  }
 },
 "nbformat": 4,
 "nbformat_minor": 2
}
