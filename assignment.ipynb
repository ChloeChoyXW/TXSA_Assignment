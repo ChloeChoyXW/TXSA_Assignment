{
 "cells": [
  {
   "cell_type": "code",
   "execution_count": 197,
   "metadata": {},
   "outputs": [
    {
     "name": "stderr",
     "output_type": "stream",
     "text": [
      "[nltk_data] Downloading package wordnet to\n",
      "[nltk_data]     C:\\Users\\User\\AppData\\Roaming\\nltk_data...\n",
      "[nltk_data]   Package wordnet is already up-to-date!\n"
     ]
    }
   ],
   "source": [
    "import pandas as pd\n",
    "import re\n",
    "import emoji\n",
    "import string\n",
    "from emoticon_lib import replace_emoticons_with_text\n",
    "from deep_translator import (GoogleTranslator)\n",
    "import html\n",
    "import nltk\n",
    "nltk.download('wordnet')\n",
    "from nltk import word_tokenize\n",
    "from nltk.stem import WordNetLemmatizer\n",
    "from nltk.corpus import stopwords\n",
    "import contractions\n",
    "import numpy as np\n",
    "from symspellpy import SymSpell, Verbosity"
   ]
  },
  {
   "cell_type": "code",
   "execution_count": 214,
   "metadata": {},
   "outputs": [],
   "source": [
    "df = pd.read_csv('cyberbullying_tweets.csv')"
   ]
  },
  {
   "cell_type": "markdown",
   "metadata": {},
   "source": [
    "DATA UNDERSTANDING"
   ]
  },
  {
   "cell_type": "code",
   "execution_count": 90,
   "metadata": {},
   "outputs": [
    {
     "data": {
      "text/html": [
       "<div>\n",
       "<style scoped>\n",
       "    .dataframe tbody tr th:only-of-type {\n",
       "        vertical-align: middle;\n",
       "    }\n",
       "\n",
       "    .dataframe tbody tr th {\n",
       "        vertical-align: top;\n",
       "    }\n",
       "\n",
       "    .dataframe thead th {\n",
       "        text-align: right;\n",
       "    }\n",
       "</style>\n",
       "<table border=\"1\" class=\"dataframe\">\n",
       "  <thead>\n",
       "    <tr style=\"text-align: right;\">\n",
       "      <th></th>\n",
       "      <th>tweet_text</th>\n",
       "      <th>cyberbullying_type</th>\n",
       "    </tr>\n",
       "  </thead>\n",
       "  <tbody>\n",
       "    <tr>\n",
       "      <th>0</th>\n",
       "      <td>In other words #katandandre, your food was cra...</td>\n",
       "      <td>not_cyberbullying</td>\n",
       "    </tr>\n",
       "    <tr>\n",
       "      <th>1</th>\n",
       "      <td>Why is #aussietv so white? #MKR #theblock #ImA...</td>\n",
       "      <td>not_cyberbullying</td>\n",
       "    </tr>\n",
       "    <tr>\n",
       "      <th>2</th>\n",
       "      <td>@XochitlSuckkks a classy whore? Or more red ve...</td>\n",
       "      <td>not_cyberbullying</td>\n",
       "    </tr>\n",
       "    <tr>\n",
       "      <th>3</th>\n",
       "      <td>@Jason_Gio meh. :P  thanks for the heads up, b...</td>\n",
       "      <td>not_cyberbullying</td>\n",
       "    </tr>\n",
       "    <tr>\n",
       "      <th>4</th>\n",
       "      <td>@RudhoeEnglish This is an ISIS account pretend...</td>\n",
       "      <td>not_cyberbullying</td>\n",
       "    </tr>\n",
       "  </tbody>\n",
       "</table>\n",
       "</div>"
      ],
      "text/plain": [
       "                                          tweet_text cyberbullying_type\n",
       "0  In other words #katandandre, your food was cra...  not_cyberbullying\n",
       "1  Why is #aussietv so white? #MKR #theblock #ImA...  not_cyberbullying\n",
       "2  @XochitlSuckkks a classy whore? Or more red ve...  not_cyberbullying\n",
       "3  @Jason_Gio meh. :P  thanks for the heads up, b...  not_cyberbullying\n",
       "4  @RudhoeEnglish This is an ISIS account pretend...  not_cyberbullying"
      ]
     },
     "execution_count": 90,
     "metadata": {},
     "output_type": "execute_result"
    }
   ],
   "source": [
    "df.head()"
   ]
  },
  {
   "cell_type": "code",
   "execution_count": 91,
   "metadata": {},
   "outputs": [
    {
     "data": {
      "text/html": [
       "<div>\n",
       "<style scoped>\n",
       "    .dataframe tbody tr th:only-of-type {\n",
       "        vertical-align: middle;\n",
       "    }\n",
       "\n",
       "    .dataframe tbody tr th {\n",
       "        vertical-align: top;\n",
       "    }\n",
       "\n",
       "    .dataframe thead th {\n",
       "        text-align: right;\n",
       "    }\n",
       "</style>\n",
       "<table border=\"1\" class=\"dataframe\">\n",
       "  <thead>\n",
       "    <tr style=\"text-align: right;\">\n",
       "      <th></th>\n",
       "      <th>tweet_text</th>\n",
       "      <th>cyberbullying_type</th>\n",
       "    </tr>\n",
       "  </thead>\n",
       "  <tbody>\n",
       "    <tr>\n",
       "      <th>47687</th>\n",
       "      <td>Black ppl aren't expected to do anything, depe...</td>\n",
       "      <td>ethnicity</td>\n",
       "    </tr>\n",
       "    <tr>\n",
       "      <th>47688</th>\n",
       "      <td>Turner did not withhold his disappointment. Tu...</td>\n",
       "      <td>ethnicity</td>\n",
       "    </tr>\n",
       "    <tr>\n",
       "      <th>47689</th>\n",
       "      <td>I swear to God. This dumb nigger bitch. I have...</td>\n",
       "      <td>ethnicity</td>\n",
       "    </tr>\n",
       "    <tr>\n",
       "      <th>47690</th>\n",
       "      <td>Yea fuck you RT @therealexel: IF YOURE A NIGGE...</td>\n",
       "      <td>ethnicity</td>\n",
       "    </tr>\n",
       "    <tr>\n",
       "      <th>47691</th>\n",
       "      <td>Bro. U gotta chill RT @CHILLShrammy: Dog FUCK ...</td>\n",
       "      <td>ethnicity</td>\n",
       "    </tr>\n",
       "  </tbody>\n",
       "</table>\n",
       "</div>"
      ],
      "text/plain": [
       "                                              tweet_text cyberbullying_type\n",
       "47687  Black ppl aren't expected to do anything, depe...          ethnicity\n",
       "47688  Turner did not withhold his disappointment. Tu...          ethnicity\n",
       "47689  I swear to God. This dumb nigger bitch. I have...          ethnicity\n",
       "47690  Yea fuck you RT @therealexel: IF YOURE A NIGGE...          ethnicity\n",
       "47691  Bro. U gotta chill RT @CHILLShrammy: Dog FUCK ...          ethnicity"
      ]
     },
     "execution_count": 91,
     "metadata": {},
     "output_type": "execute_result"
    }
   ],
   "source": [
    "df.tail()"
   ]
  },
  {
   "cell_type": "code",
   "execution_count": 108,
   "metadata": {},
   "outputs": [
    {
     "data": {
      "text/plain": [
       "(47692, 2)"
      ]
     },
     "execution_count": 108,
     "metadata": {},
     "output_type": "execute_result"
    }
   ],
   "source": [
    "df.shape"
   ]
  },
  {
   "cell_type": "code",
   "execution_count": 93,
   "metadata": {},
   "outputs": [
    {
     "name": "stdout",
     "output_type": "stream",
     "text": [
      "<class 'pandas.core.frame.DataFrame'>\n",
      "RangeIndex: 47692 entries, 0 to 47691\n",
      "Data columns (total 2 columns):\n",
      " #   Column              Non-Null Count  Dtype \n",
      "---  ------              --------------  ----- \n",
      " 0   tweet_text          47692 non-null  object\n",
      " 1   cyberbullying_type  47692 non-null  object\n",
      "dtypes: object(2)\n",
      "memory usage: 745.3+ KB\n"
     ]
    }
   ],
   "source": [
    "df.info()"
   ]
  },
  {
   "cell_type": "code",
   "execution_count": 94,
   "metadata": {},
   "outputs": [
    {
     "data": {
      "text/html": [
       "<div>\n",
       "<style scoped>\n",
       "    .dataframe tbody tr th:only-of-type {\n",
       "        vertical-align: middle;\n",
       "    }\n",
       "\n",
       "    .dataframe tbody tr th {\n",
       "        vertical-align: top;\n",
       "    }\n",
       "\n",
       "    .dataframe thead th {\n",
       "        text-align: right;\n",
       "    }\n",
       "</style>\n",
       "<table border=\"1\" class=\"dataframe\">\n",
       "  <thead>\n",
       "    <tr style=\"text-align: right;\">\n",
       "      <th></th>\n",
       "      <th>tweet_text</th>\n",
       "      <th>cyberbullying_type</th>\n",
       "    </tr>\n",
       "  </thead>\n",
       "  <tbody>\n",
       "    <tr>\n",
       "      <th>count</th>\n",
       "      <td>47692</td>\n",
       "      <td>47692</td>\n",
       "    </tr>\n",
       "    <tr>\n",
       "      <th>unique</th>\n",
       "      <td>46017</td>\n",
       "      <td>6</td>\n",
       "    </tr>\n",
       "    <tr>\n",
       "      <th>top</th>\n",
       "      <td>RT @sailorhg: the intro for my hardware hackin...</td>\n",
       "      <td>religion</td>\n",
       "    </tr>\n",
       "    <tr>\n",
       "      <th>freq</th>\n",
       "      <td>2</td>\n",
       "      <td>7998</td>\n",
       "    </tr>\n",
       "  </tbody>\n",
       "</table>\n",
       "</div>"
      ],
      "text/plain": [
       "                                               tweet_text cyberbullying_type\n",
       "count                                               47692              47692\n",
       "unique                                              46017                  6\n",
       "top     RT @sailorhg: the intro for my hardware hackin...           religion\n",
       "freq                                                    2               7998"
      ]
     },
     "execution_count": 94,
     "metadata": {},
     "output_type": "execute_result"
    }
   ],
   "source": [
    "df.describe()"
   ]
  },
  {
   "cell_type": "code",
   "execution_count": 95,
   "metadata": {},
   "outputs": [
    {
     "data": {
      "text/plain": [
       "tweet_text            0\n",
       "cyberbullying_type    0\n",
       "dtype: int64"
      ]
     },
     "execution_count": 95,
     "metadata": {},
     "output_type": "execute_result"
    }
   ],
   "source": [
    "df.isna().sum()"
   ]
  },
  {
   "cell_type": "code",
   "execution_count": 96,
   "metadata": {},
   "outputs": [
    {
     "data": {
      "text/plain": [
       "array(['not_cyberbullying', 'gender', 'religion', 'other_cyberbullying',\n",
       "       'age', 'ethnicity'], dtype=object)"
      ]
     },
     "execution_count": 96,
     "metadata": {},
     "output_type": "execute_result"
    }
   ],
   "source": [
    "# Unique values of target variable\n",
    "df.cyberbullying_type.unique()"
   ]
  },
  {
   "cell_type": "code",
   "execution_count": 97,
   "metadata": {},
   "outputs": [
    {
     "data": {
      "text/plain": [
       "religion               7998\n",
       "age                    7992\n",
       "gender                 7973\n",
       "ethnicity              7961\n",
       "not_cyberbullying      7945\n",
       "other_cyberbullying    7823\n",
       "Name: cyberbullying_type, dtype: int64"
      ]
     },
     "execution_count": 97,
     "metadata": {},
     "output_type": "execute_result"
    }
   ],
   "source": [
    "# Count of values of target variable\n",
    "df['cyberbullying_type'].value_counts()"
   ]
  },
  {
   "cell_type": "code",
   "execution_count": 98,
   "metadata": {},
   "outputs": [
    {
     "name": "stdout",
     "output_type": "stream",
     "text": [
      "Num of Duplicated Rows: 36\n"
     ]
    }
   ],
   "source": [
    "print('Num of Duplicated Rows:', df.duplicated().sum())"
   ]
  },
  {
   "cell_type": "markdown",
   "metadata": {},
   "source": [
    "DATA CLEANING"
   ]
  },
  {
   "cell_type": "code",
   "execution_count": 215,
   "metadata": {},
   "outputs": [
    {
     "data": {
      "text/plain": [
       "(46017, 2)"
      ]
     },
     "execution_count": 215,
     "metadata": {},
     "output_type": "execute_result"
    }
   ],
   "source": [
    "# Remove Duplicates\n",
    "df =df.drop_duplicates(subset='tweet_text', keep=\"last\")\n",
    "df.shape"
   ]
  },
  {
   "cell_type": "code",
   "execution_count": 216,
   "metadata": {},
   "outputs": [
    {
     "name": "stdout",
     "output_type": "stream",
     "text": [
      "|    | tweet_text                                                                                                                          | cyberbullying_type   |\n",
      "|---:|:------------------------------------------------------------------------------------------------------------------------------------|:---------------------|\n",
      "|  0 | In other words #katandandre, your food was crapilicious! #mkr                                                                       | not_cyberbullying    |\n",
      "|  1 | Why is #aussietv so white? #MKR #theblock #ImACelebrityAU #today #sunrise #studio10 #Neighbours #WonderlandTen #etc                 | not_cyberbullying    |\n",
      "|  2 | @XochitlSuckkks a classy whore? Or more red velvet cupcakes?                                                                        | not_cyberbullying    |\n",
      "|  4 | @RudhoeEnglish This is an ISIS account pretending to be a Kurdish account.  Like Islam, it is all lies.                             | not_cyberbullying    |\n",
      "|  5 | @Raja5aab @Quickieleaks Yes, the test of god is that good or bad or indifferent or weird or whatever, it all proves gods existence. | not_cyberbullying    |\n",
      "|  6 | Itu sekolah ya bukan tempat bully! Ga jauh kaya neraka                                                                              | not_cyberbullying    |\n",
      "|  7 | Karma. I hope it bites Kat on the butt. She is just nasty. #mkr                                                                     | not_cyberbullying    |\n",
      "|  9 | Rebecca Black Drops Out of School Due to Bullying:                                                                                  | not_cyberbullying    |\n",
      "| 10 | @Jord_Is_Dead http://t.co/UsQInYW5Gn                                                                                                | not_cyberbullying    |\n",
      "| 11 | The Bully flushes on KD http://twitvid.com/A2TNP                                                                                    | not_cyberbullying    |\n"
     ]
    }
   ],
   "source": [
    "# Expand contraction\n",
    "df['tweet_text'] = df['tweet_text'].apply(lambda e: contractions.fix(e))\n",
    "print(df.head(10).to_markdown())"
   ]
  },
  {
   "cell_type": "code",
   "execution_count": 217,
   "metadata": {},
   "outputs": [],
   "source": [
    "#Remove html tags\n",
    "df['tweet_text'] = df['tweet_text'].apply(lambda e: html.unescape(e))"
   ]
  },
  {
   "cell_type": "code",
   "execution_count": 218,
   "metadata": {},
   "outputs": [],
   "source": [
    "# Remove emoticons\n",
    "df['tweet_text'] = df['tweet_text'].apply(lambda e: replace_emoticons_with_text(e))"
   ]
  },
  {
   "cell_type": "code",
   "execution_count": 219,
   "metadata": {},
   "outputs": [
    {
     "name": "stdout",
     "output_type": "stream",
     "text": [
      "|    | tweet_text                                                                                                                          | cyberbullying_type   |\n",
      "|---:|:------------------------------------------------------------------------------------------------------------------------------------|:---------------------|\n",
      "|  0 | In other words #katandandre, your food was crapilicious! #mkr                                                                       | not_cyberbullying    |\n",
      "|  1 | Why is #aussietv so white? #MKR #theblock #ImACelebrityAU #today #sunrise #studio10 #Neighbours #WonderlandTen #etc                 | not_cyberbullying    |\n",
      "|  2 | @XochitlSuckkks a classy whore? Or more red velvet cupcakes?                                                                        | not_cyberbullying    |\n",
      "|  4 | @RudhoeEnglish This is an ISIS account pretending to be a Kurdish account.  Like Islam, it is all lies.                             | not_cyberbullying    |\n",
      "|  5 | @Raja5aab @Quickieleaks Yes, the test of god is that good or bad or indifferent or weird or whatever, it all proves gods existence. | not_cyberbullying    |\n",
      "|  6 | Itu sekolah ya bukan tempat bully! Ga jauh kaya neraka                                                                              | not_cyberbullying    |\n",
      "|  7 | Karma. I hope it bites Kat on the butt. She is just nasty. #mkr                                                                     | not_cyberbullying    |\n",
      "|  9 | Rebecca Black Drops Out of School Due to Bullying:                                                                                  | not_cyberbullying    |\n",
      "| 10 | @Jord_Is_Dead httpSkeptical, annoyed, undecided, uneasy or hesitant/t.co/UsQInYW5Gn                                                 | not_cyberbullying    |\n",
      "| 11 | The Bully flushes on KD httpSkeptical, annoyed, undecided, uneasy or hesitant/twitvid.com/A2TNP                                     | not_cyberbullying    |\n"
     ]
    }
   ],
   "source": [
    "# Remove email \n",
    "df['tweet_text'] = df['tweet_text'].apply(lambda e: re.sub(r\"\\S+@\\S+(?:\\.\\S+)+\", \"\", e))\n",
    "print(df.head(10).to_markdown())"
   ]
  },
  {
   "cell_type": "code",
   "execution_count": 220,
   "metadata": {},
   "outputs": [
    {
     "name": "stdout",
     "output_type": "stream",
     "text": [
      "|    | tweet_text                                                                                                  | cyberbullying_type   |\n",
      "|---:|:------------------------------------------------------------------------------------------------------------|:---------------------|\n",
      "|  0 | In other words  your food was crapilicious!                                                                 | not_cyberbullying    |\n",
      "|  1 | Why is  so white?                                                                                           | not_cyberbullying    |\n",
      "|  2 | a classy whore? Or more red velvet cupcakes?                                                                | not_cyberbullying    |\n",
      "|  4 | This is an ISIS account pretending to be a Kurdish account.  Like Islam, it is all lies.                    | not_cyberbullying    |\n",
      "|  5 | Yes, the test of god is that good or bad or indifferent or weird or whatever, it all proves gods existence. | not_cyberbullying    |\n",
      "|  6 | Itu sekolah ya bukan tempat bully! Ga jauh kaya neraka                                                      | not_cyberbullying    |\n",
      "|  7 | Karma. I hope it bites Kat on the butt. She is just nasty.                                                  | not_cyberbullying    |\n",
      "|  9 | Rebecca Black Drops Out of School Due to Bullying:                                                          | not_cyberbullying    |\n",
      "| 10 | annoyed, undecided, uneasy or hesitant/t.co/UsQInYW5Gn                                                      | not_cyberbullying    |\n",
      "| 11 | The Bully flushes on KD  annoyed, undecided, uneasy or hesitant/twitvid.com/A2TNP                           | not_cyberbullying    |\n"
     ]
    }
   ],
   "source": [
    "## Remove RT, #, URL and @: \n",
    "df['tweet_text'] = df['tweet_text'].apply(lambda e: re.sub(r\"(RT)|(?:\\@|\\#|https?|http?|www)\\S+\", \"\", e))\n",
    "print(df.head(10).to_markdown())"
   ]
  },
  {
   "cell_type": "code",
   "execution_count": 221,
   "metadata": {},
   "outputs": [],
   "source": [
    "# Replace underscore\n",
    "df['tweet_text'] = df['tweet_text'].apply(lambda e: e.replace('_', ' '))"
   ]
  },
  {
   "cell_type": "code",
   "execution_count": 222,
   "metadata": {},
   "outputs": [],
   "source": [
    "# Change emojis to text\n",
    "df['tweet_text'] = df['tweet_text'].apply(lambda e: emoji.demojize(e, language=\"en\"))"
   ]
  },
  {
   "cell_type": "code",
   "execution_count": 224,
   "metadata": {},
   "outputs": [],
   "source": [
    "# Replace underscore (space) and : (remove)\n",
    "df['tweet_text'] = df['tweet_text'].apply(lambda e: e.replace('_', ' '))\n",
    "df['tweet_text'] = df['tweet_text'].apply(lambda e: e.replace(':', ''))"
   ]
  },
  {
   "cell_type": "code",
   "execution_count": 226,
   "metadata": {},
   "outputs": [
    {
     "data": {
      "text/html": [
       "<div>\n",
       "<style scoped>\n",
       "    .dataframe tbody tr th:only-of-type {\n",
       "        vertical-align: middle;\n",
       "    }\n",
       "\n",
       "    .dataframe tbody tr th {\n",
       "        vertical-align: top;\n",
       "    }\n",
       "\n",
       "    .dataframe thead th {\n",
       "        text-align: right;\n",
       "    }\n",
       "</style>\n",
       "<table border=\"1\" class=\"dataframe\">\n",
       "  <thead>\n",
       "    <tr style=\"text-align: right;\">\n",
       "      <th></th>\n",
       "      <th>tweet_text</th>\n",
       "      <th>cyberbullying_type</th>\n",
       "    </tr>\n",
       "  </thead>\n",
       "  <tbody>\n",
       "    <tr>\n",
       "      <th>0</th>\n",
       "      <td>In other words your food was crap i licious</td>\n",
       "      <td>not_cyberbullying</td>\n",
       "    </tr>\n",
       "    <tr>\n",
       "      <th>1</th>\n",
       "      <td>Why is so white</td>\n",
       "      <td>not_cyberbullying</td>\n",
       "    </tr>\n",
       "    <tr>\n",
       "      <th>2</th>\n",
       "      <td>a classy whore Or more red velvet cupcakes</td>\n",
       "      <td>not_cyberbullying</td>\n",
       "    </tr>\n",
       "    <tr>\n",
       "      <th>4</th>\n",
       "      <td>This is an IS IS account pretending to be a Ku...</td>\n",
       "      <td>not_cyberbullying</td>\n",
       "    </tr>\n",
       "    <tr>\n",
       "      <th>5</th>\n",
       "      <td>Yes the test of god is that good or bad or in ...</td>\n",
       "      <td>not_cyberbullying</td>\n",
       "    </tr>\n",
       "    <tr>\n",
       "      <th>6</th>\n",
       "      <td>It u sekolah ya buk an temp at bully Ga j a uh...</td>\n",
       "      <td>not_cyberbullying</td>\n",
       "    </tr>\n",
       "    <tr>\n",
       "      <th>7</th>\n",
       "      <td>Karma I hope it bites Kat on the butt She is j...</td>\n",
       "      <td>not_cyberbullying</td>\n",
       "    </tr>\n",
       "    <tr>\n",
       "      <th>9</th>\n",
       "      <td>Rebecca Black Drops Out of School Due to Bullying</td>\n",
       "      <td>not_cyberbullying</td>\n",
       "    </tr>\n",
       "    <tr>\n",
       "      <th>10</th>\n",
       "      <td>annoyed undecided uneasy or hesitant t co Us Q...</td>\n",
       "      <td>not_cyberbullying</td>\n",
       "    </tr>\n",
       "    <tr>\n",
       "      <th>11</th>\n",
       "      <td>The Bully flushes on K D annoyed undecided une...</td>\n",
       "      <td>not_cyberbullying</td>\n",
       "    </tr>\n",
       "  </tbody>\n",
       "</table>\n",
       "</div>"
      ],
      "text/plain": [
       "                                           tweet_text cyberbullying_type\n",
       "0         In other words your food was crap i licious  not_cyberbullying\n",
       "1                                     Why is so white  not_cyberbullying\n",
       "2          a classy whore Or more red velvet cupcakes  not_cyberbullying\n",
       "4   This is an IS IS account pretending to be a Ku...  not_cyberbullying\n",
       "5   Yes the test of god is that good or bad or in ...  not_cyberbullying\n",
       "6   It u sekolah ya buk an temp at bully Ga j a uh...  not_cyberbullying\n",
       "7   Karma I hope it bites Kat on the butt She is j...  not_cyberbullying\n",
       "9   Rebecca Black Drops Out of School Due to Bullying  not_cyberbullying\n",
       "10  annoyed undecided uneasy or hesitant t co Us Q...  not_cyberbullying\n",
       "11  The Bully flushes on K D annoyed undecided une...  not_cyberbullying"
      ]
     },
     "execution_count": 226,
     "metadata": {},
     "output_type": "execute_result"
    }
   ],
   "source": [
    "# Word Segmentation  \n",
    "import wordninja\n",
    "df['tweet_text'] = df['tweet_text'].apply(lambda x: ' '.join(wordninja.split(x)))\n",
    "df.head(10)    "
   ]
  },
  {
   "cell_type": "code",
   "execution_count": 24,
   "metadata": {},
   "outputs": [],
   "source": [
    "# Remove digits\n",
    "#df['tweet_text'] = df['tweet_text'].replace(to_replace=r'\\d', value='', regex=True)"
   ]
  },
  {
   "cell_type": "code",
   "execution_count": 228,
   "metadata": {},
   "outputs": [
    {
     "data": {
      "text/plain": [
       "(45910, 2)"
      ]
     },
     "execution_count": 228,
     "metadata": {},
     "output_type": "execute_result"
    }
   ],
   "source": [
    "# Drop rows with nan or empty spaces \n",
    "df.replace(r'^\\s*$', np.nan, regex=True, inplace=True)\n",
    "df = df[df['tweet_text'].notna()]\n",
    "df.shape"
   ]
  },
  {
   "cell_type": "code",
   "execution_count": 229,
   "metadata": {},
   "outputs": [],
   "source": [
    "# Remove special characters and digits\n",
    "df['tweet_text'] = df['tweet_text'].apply(lambda e: re.sub(r'[^a-zA-Z ]', '', e))"
   ]
  },
  {
   "cell_type": "code",
   "execution_count": null,
   "metadata": {},
   "outputs": [],
   "source": [
    "# Translate\n",
    "#df['tweet_text'] = df['tweet_text'].apply(lambda e: GoogleTranslator(source='auto', target='en').translate(text = e))"
   ]
  },
  {
   "cell_type": "code",
   "execution_count": null,
   "metadata": {},
   "outputs": [],
   "source": [
    "# Remove punctuations\n",
    "# def remove_punctuations(text):\n",
    "#     remove_punc = [w for w in text if w not in string.punctuation]\n",
    "#     remove_punc = ''.join(remove_punc)\n",
    "#     return ''.join([wrd for wrd in remove_punc.split()])\n",
    "# df['tweet_text'] = df['tweet_text'].apply(remove_punctuations)"
   ]
  },
  {
   "cell_type": "code",
   "execution_count": 230,
   "metadata": {},
   "outputs": [],
   "source": [
    "# Remove extra whitespaces after removing noise and punctuations\n",
    "def remove_extra_whitespaces(text):\n",
    "    # Replace multiple consecutive whitespaces with a single space\n",
    "    text = re.sub(r'\\s+', ' ', text) \n",
    "    return text.strip()  # Remove leading and trailing whitespaces\n",
    "df['tweet_text'] = df['tweet_text'].apply(remove_extra_whitespaces)"
   ]
  },
  {
   "cell_type": "code",
   "execution_count": 232,
   "metadata": {},
   "outputs": [
    {
     "name": "stdout",
     "output_type": "stream",
     "text": [
      "|    | tweet_text                                                                                                | cyberbullying_type   |\n",
      "|---:|:----------------------------------------------------------------------------------------------------------|:---------------------|\n",
      "|  0 | In other words your food was crap  licious                                                                | not_cyberbullying    |\n",
      "|  1 | Why is so white                                                                                           | not_cyberbullying    |\n",
      "|  2 | classy whore Or more red velvet cupcakes                                                                  | not_cyberbullying    |\n",
      "|  4 | This is an IS IS account pretending to be  Kurdish account Like Islam it is all lies                      | not_cyberbullying    |\n",
      "|  5 | Yes the test of god is that good or bad or in different or weird or whatever it all proves gods existence | not_cyberbullying    |\n",
      "|  6 | It  sekolah ya buk an temp at bully Ga   uh kaya ne raka                                                  | not_cyberbullying    |\n",
      "|  7 | Karma  hope it bites Kat on the butt She is just nasty                                                    | not_cyberbullying    |\n",
      "|  9 | Rebecca Black Drops Out of School Due to Bullying                                                         | not_cyberbullying    |\n",
      "| 10 | annoyed undecided uneasy or hesitant  co Us QIn   Gn                                                      | not_cyberbullying    |\n",
      "| 11 | The Bully flushes on   annoyed undecided uneasy or hesitant twit vid com   NP                             | not_cyberbullying    |\n"
     ]
    }
   ],
   "source": [
    "# Normalize Words / Remove repeating words with 1 or  (use regex) \n",
    "def remove_words_with_one_char_or_repeating_chars(text):   \n",
    "    text = re.sub(r'\\b\\w\\b', '', text)   # Remove words with 1 character\n",
    "    text = re.sub(r'\\b\\w*(\\w)\\1{2,}\\w*\\b', '', text)   # Remove words with 3 or more repeating characters\n",
    "    return text\n",
    "df['tweet_text'] = df['tweet_text'].apply(remove_words_with_one_char_or_repeating_chars)\n",
    "print(df.head(10).to_markdown())"
   ]
  },
  {
   "cell_type": "code",
   "execution_count": 233,
   "metadata": {},
   "outputs": [
    {
     "data": {
      "text/html": [
       "<div>\n",
       "<style scoped>\n",
       "    .dataframe tbody tr th:only-of-type {\n",
       "        vertical-align: middle;\n",
       "    }\n",
       "\n",
       "    .dataframe tbody tr th {\n",
       "        vertical-align: top;\n",
       "    }\n",
       "\n",
       "    .dataframe thead th {\n",
       "        text-align: right;\n",
       "    }\n",
       "</style>\n",
       "<table border=\"1\" class=\"dataframe\">\n",
       "  <thead>\n",
       "    <tr style=\"text-align: right;\">\n",
       "      <th></th>\n",
       "      <th>tweet_text</th>\n",
       "      <th>cyberbullying_type</th>\n",
       "    </tr>\n",
       "  </thead>\n",
       "  <tbody>\n",
       "    <tr>\n",
       "      <th>0</th>\n",
       "      <td>in other words your food was crap  licious</td>\n",
       "      <td>not_cyberbullying</td>\n",
       "    </tr>\n",
       "    <tr>\n",
       "      <th>1</th>\n",
       "      <td>why is so white</td>\n",
       "      <td>not_cyberbullying</td>\n",
       "    </tr>\n",
       "    <tr>\n",
       "      <th>2</th>\n",
       "      <td>classy whore or more red velvet cupcakes</td>\n",
       "      <td>not_cyberbullying</td>\n",
       "    </tr>\n",
       "    <tr>\n",
       "      <th>4</th>\n",
       "      <td>this is an is is account pretending to be  kur...</td>\n",
       "      <td>not_cyberbullying</td>\n",
       "    </tr>\n",
       "    <tr>\n",
       "      <th>5</th>\n",
       "      <td>yes the test of god is that good or bad or in ...</td>\n",
       "      <td>not_cyberbullying</td>\n",
       "    </tr>\n",
       "    <tr>\n",
       "      <th>...</th>\n",
       "      <td>...</td>\n",
       "      <td>...</td>\n",
       "    </tr>\n",
       "    <tr>\n",
       "      <th>47687</th>\n",
       "      <td>black people are not expected to do anything d...</td>\n",
       "      <td>ethnicity</td>\n",
       "    </tr>\n",
       "    <tr>\n",
       "      <th>47688</th>\n",
       "      <td>turner did not withhold his disappointment tur...</td>\n",
       "      <td>ethnicity</td>\n",
       "    </tr>\n",
       "    <tr>\n",
       "      <th>47689</th>\n",
       "      <td>swear to god this dumb nigger bitch  have got...</td>\n",
       "      <td>ethnicity</td>\n",
       "    </tr>\n",
       "    <tr>\n",
       "      <th>47690</th>\n",
       "      <td>yea fuck you if you are  nigger fucking un fol...</td>\n",
       "      <td>ethnicity</td>\n",
       "    </tr>\n",
       "    <tr>\n",
       "      <th>47691</th>\n",
       "      <td>bro you got to chill dog fuck kp that dumb nig...</td>\n",
       "      <td>ethnicity</td>\n",
       "    </tr>\n",
       "  </tbody>\n",
       "</table>\n",
       "<p>45910 rows × 2 columns</p>\n",
       "</div>"
      ],
      "text/plain": [
       "                                              tweet_text cyberbullying_type\n",
       "0             in other words your food was crap  licious  not_cyberbullying\n",
       "1                                        why is so white  not_cyberbullying\n",
       "2               classy whore or more red velvet cupcakes  not_cyberbullying\n",
       "4      this is an is is account pretending to be  kur...  not_cyberbullying\n",
       "5      yes the test of god is that good or bad or in ...  not_cyberbullying\n",
       "...                                                  ...                ...\n",
       "47687  black people are not expected to do anything d...          ethnicity\n",
       "47688  turner did not withhold his disappointment tur...          ethnicity\n",
       "47689   swear to god this dumb nigger bitch  have got...          ethnicity\n",
       "47690  yea fuck you if you are  nigger fucking un fol...          ethnicity\n",
       "47691  bro you got to chill dog fuck kp that dumb nig...          ethnicity\n",
       "\n",
       "[45910 rows x 2 columns]"
      ]
     },
     "execution_count": 233,
     "metadata": {},
     "output_type": "execute_result"
    }
   ],
   "source": [
    "# Convert to lower case\n",
    "df['tweet_text'] = df['tweet_text'].str.lower()\n",
    "df"
   ]
  },
  {
   "cell_type": "code",
   "execution_count": 234,
   "metadata": {},
   "outputs": [
    {
     "name": "stdout",
     "output_type": "stream",
     "text": [
      "|    | tweet_text                                                                                                                                                                   | cyberbullying_type   |\n",
      "|---:|:-----------------------------------------------------------------------------------------------------------------------------------------------------------------------------|:---------------------|\n",
      "|  0 | ['in', 'other', 'words', 'your', 'food', 'was', 'crap', 'licious']                                                                                                           | not_cyberbullying    |\n",
      "|  1 | ['why', 'is', 'so', 'white']                                                                                                                                                 | not_cyberbullying    |\n",
      "|  2 | ['classy', 'whore', 'or', 'more', 'red', 'velvet', 'cupcakes']                                                                                                               | not_cyberbullying    |\n",
      "|  4 | ['this', 'is', 'an', 'is', 'is', 'account', 'pretending', 'to', 'be', 'kurdish', 'account', 'like', 'islam', 'it', 'is', 'all', 'lies']                                      | not_cyberbullying    |\n",
      "|  5 | ['yes', 'the', 'test', 'of', 'god', 'is', 'that', 'good', 'or', 'bad', 'or', 'in', 'different', 'or', 'weird', 'or', 'whatever', 'it', 'all', 'proves', 'gods', 'existence'] | not_cyberbullying    |\n",
      "|  6 | ['it', 'sekolah', 'ya', 'buk', 'an', 'temp', 'at', 'bully', 'ga', 'uh', 'kaya', 'ne', 'raka']                                                                                | not_cyberbullying    |\n",
      "|  7 | ['karma', 'hope', 'it', 'bites', 'kat', 'on', 'the', 'butt', 'she', 'is', 'just', 'nasty']                                                                                   | not_cyberbullying    |\n",
      "|  9 | ['rebecca', 'black', 'drops', 'out', 'of', 'school', 'due', 'to', 'bullying']                                                                                                | not_cyberbullying    |\n",
      "| 10 | ['annoyed', 'undecided', 'uneasy', 'or', 'hesitant', 'co', 'us', 'qin', 'gn']                                                                                                | not_cyberbullying    |\n",
      "| 11 | ['the', 'bully', 'flushes', 'on', 'annoyed', 'undecided', 'uneasy', 'or', 'hesitant', 'twit', 'vid', 'com', 'np']                                                            | not_cyberbullying    |\n"
     ]
    }
   ],
   "source": [
    "# Tokenization\n",
    "def tokenize_text(text):\n",
    "    if isinstance(text, str):  # Check if text is a string\n",
    "        tokens = word_tokenize(text)\n",
    "        return tokens\n",
    "    else:\n",
    "        return []  # Return an empty list for NaN values\n",
    "\n",
    "df['tweet_text'] = df['tweet_text'].apply(tokenize_text)\n",
    "print(df.head(10).to_markdown())"
   ]
  },
  {
   "cell_type": "code",
   "execution_count": 235,
   "metadata": {},
   "outputs": [
    {
     "name": "stdout",
     "output_type": "stream",
     "text": [
      "|    | tweet_text                                                                                             | cyberbullying_type   |\n",
      "|---:|:-------------------------------------------------------------------------------------------------------|:---------------------|\n",
      "|  0 | ['words', 'food', 'crap', 'licious']                                                                   | not_cyberbullying    |\n",
      "|  1 | ['white']                                                                                              | not_cyberbullying    |\n",
      "|  2 | ['classy', 'whore', 'red', 'velvet', 'cupcakes']                                                       | not_cyberbullying    |\n",
      "|  4 | ['account', 'pretending', 'kurdish', 'account', 'like', 'islam', 'lies']                               | not_cyberbullying    |\n",
      "|  5 | ['yes', 'test', 'god', 'good', 'bad', 'different', 'weird', 'whatever', 'proves', 'gods', 'existence'] | not_cyberbullying    |\n",
      "|  6 | ['sekolah', 'ya', 'buk', 'temp', 'bully', 'ga', 'uh', 'kaya', 'ne', 'raka']                            | not_cyberbullying    |\n",
      "|  7 | ['karma', 'hope', 'bites', 'kat', 'butt', 'nasty']                                                     | not_cyberbullying    |\n",
      "|  9 | ['rebecca', 'black', 'drops', 'school', 'due', 'bullying']                                             | not_cyberbullying    |\n",
      "| 10 | ['annoyed', 'undecided', 'uneasy', 'hesitant', 'co', 'us', 'qin', 'gn']                                | not_cyberbullying    |\n",
      "| 11 | ['bully', 'flushes', 'annoyed', 'undecided', 'uneasy', 'hesitant', 'twit', 'vid', 'com', 'np']         | not_cyberbullying    |\n"
     ]
    }
   ],
   "source": [
    "# Remove stopwords\n",
    "stopword = stopwords.words('english')\n",
    "def remove_stopwords(tokens): \n",
    "    #tokens = word_tokenize(text)\n",
    "    non_stopwords = [word for word in tokens if word not in stopword]\n",
    "    return non_stopwords\n",
    "\n",
    "df['tweet_text'] = df['tweet_text'].apply(remove_stopwords)\n",
    "print(df.head(10).to_markdown())"
   ]
  },
  {
   "cell_type": "code",
   "execution_count": 236,
   "metadata": {},
   "outputs": [
    {
     "name": "stdout",
     "output_type": "stream",
     "text": [
      "|    | tweet_text                                                        | cyberbullying_type   |\n",
      "|---:|:------------------------------------------------------------------|:---------------------|\n",
      "|  0 | word food crap licious                                            | not_cyberbullying    |\n",
      "|  1 | white                                                             | not_cyberbullying    |\n",
      "|  2 | classy whore red velvet cupcake                                   | not_cyberbullying    |\n",
      "|  4 | account pretending kurdish account like islam lie                 | not_cyberbullying    |\n",
      "|  5 | yes test god good bad different weird whatever prof god existence | not_cyberbullying    |\n",
      "|  6 | sekolah ya buk temp bully ga uh kaya ne raka                      | not_cyberbullying    |\n",
      "|  7 | karma hope bite kat butt nasty                                    | not_cyberbullying    |\n",
      "|  9 | rebecca black drop school due bullying                            | not_cyberbullying    |\n",
      "| 10 | annoyed undecided uneasy hesitant co u qin gn                     | not_cyberbullying    |\n",
      "| 11 | bully flush annoyed undecided uneasy hesitant twit vid com np     | not_cyberbullying    |\n"
     ]
    }
   ],
   "source": [
    "# Lemmatization\n",
    "lemmatizer = WordNetLemmatizer()\n",
    "def lemmatize_words(tokens):\n",
    "    return ' '.join([lemmatizer.lemmatize(word) for word in tokens])\n",
    "df[\"tweet_text\"] = df[\"tweet_text\"].apply(lemmatize_words)\n",
    "print(df.head(10).to_markdown())"
   ]
  },
  {
   "cell_type": "code",
   "execution_count": 238,
   "metadata": {},
   "outputs": [],
   "source": [
    "# Remove any non english words\n",
    "english_words = set(words.words())\n",
    "\n",
    "def remove_non_english(tokens):\n",
    "    english_tokens = []\n",
    "    for word in tokens:\n",
    "        if word in english_words:\n",
    "            english_tokens.append(word)\n",
    "        else:\n",
    "            english_tokens.append('')\n",
    "    return [token for token in english_tokens if token != '']\n",
    "\n",
    "df['tweet_text'] = df['tweet_text'].apply(tokenize_text)\n",
    "df['tweet_text'] = df['tweet_text'].apply(remove_non_english)"
   ]
  },
  {
   "cell_type": "code",
   "execution_count": 239,
   "metadata": {},
   "outputs": [
    {
     "name": "stdout",
     "output_type": "stream",
     "text": [
      "|    | tweet_text                                                                                          | cyberbullying_type   |\n",
      "|---:|:----------------------------------------------------------------------------------------------------|:---------------------|\n",
      "|  0 | ['word', 'food', 'crap']                                                                            | not_cyberbullying    |\n",
      "|  1 | ['white']                                                                                           | not_cyberbullying    |\n",
      "|  2 | ['classy', 'whore', 'red', 'velvet', 'cupcake']                                                     | not_cyberbullying    |\n",
      "|  4 | ['account', 'account', 'like', 'lie']                                                               | not_cyberbullying    |\n",
      "|  5 | ['yes', 'test', 'god', 'good', 'bad', 'different', 'weird', 'whatever', 'prof', 'god', 'existence'] | not_cyberbullying    |\n",
      "|  6 | ['ya', 'temp', 'bully', 'ga', 'ne']                                                                 | not_cyberbullying    |\n",
      "|  7 | ['karma', 'hope', 'bite', 'kat', 'butt', 'nasty']                                                   | not_cyberbullying    |\n",
      "|  9 | ['black', 'drop', 'school', 'due', 'bullying']                                                      | not_cyberbullying    |\n",
      "| 10 | ['undecided', 'uneasy', 'hesitant', 'u']                                                            | not_cyberbullying    |\n",
      "| 11 | ['bully', 'flush', 'undecided', 'uneasy', 'hesitant', 'twit']                                       | not_cyberbullying    |\n"
     ]
    },
    {
     "data": {
      "text/plain": [
       "(45910, 2)"
      ]
     },
     "execution_count": 239,
     "metadata": {},
     "output_type": "execute_result"
    }
   ],
   "source": [
    "# Data shape after removing non english words\n",
    "print(df.head(10).to_markdown())\n",
    "df.shape"
   ]
  },
  {
   "cell_type": "code",
   "execution_count": 242,
   "metadata": {},
   "outputs": [
    {
     "data": {
      "text/html": [
       "<div>\n",
       "<style scoped>\n",
       "    .dataframe tbody tr th:only-of-type {\n",
       "        vertical-align: middle;\n",
       "    }\n",
       "\n",
       "    .dataframe tbody tr th {\n",
       "        vertical-align: top;\n",
       "    }\n",
       "\n",
       "    .dataframe thead th {\n",
       "        text-align: right;\n",
       "    }\n",
       "</style>\n",
       "<table border=\"1\" class=\"dataframe\">\n",
       "  <thead>\n",
       "    <tr style=\"text-align: right;\">\n",
       "      <th></th>\n",
       "      <th>tweet_text</th>\n",
       "      <th>cyberbullying_type</th>\n",
       "    </tr>\n",
       "  </thead>\n",
       "  <tbody>\n",
       "    <tr>\n",
       "      <th>0</th>\n",
       "      <td>word food crap</td>\n",
       "      <td>not_cyberbullying</td>\n",
       "    </tr>\n",
       "    <tr>\n",
       "      <th>1</th>\n",
       "      <td>white</td>\n",
       "      <td>not_cyberbullying</td>\n",
       "    </tr>\n",
       "    <tr>\n",
       "      <th>2</th>\n",
       "      <td>classy whore red velvet cupcake</td>\n",
       "      <td>not_cyberbullying</td>\n",
       "    </tr>\n",
       "    <tr>\n",
       "      <th>4</th>\n",
       "      <td>account account like lie</td>\n",
       "      <td>not_cyberbullying</td>\n",
       "    </tr>\n",
       "    <tr>\n",
       "      <th>5</th>\n",
       "      <td>yes test god good bad different weird whatever...</td>\n",
       "      <td>not_cyberbullying</td>\n",
       "    </tr>\n",
       "    <tr>\n",
       "      <th>6</th>\n",
       "      <td>ya temp bully ga ne</td>\n",
       "      <td>not_cyberbullying</td>\n",
       "    </tr>\n",
       "    <tr>\n",
       "      <th>7</th>\n",
       "      <td>karma hope bite kat butt nasty</td>\n",
       "      <td>not_cyberbullying</td>\n",
       "    </tr>\n",
       "    <tr>\n",
       "      <th>9</th>\n",
       "      <td>black drop school due bullying</td>\n",
       "      <td>not_cyberbullying</td>\n",
       "    </tr>\n",
       "    <tr>\n",
       "      <th>10</th>\n",
       "      <td>undecided uneasy hesitant u</td>\n",
       "      <td>not_cyberbullying</td>\n",
       "    </tr>\n",
       "    <tr>\n",
       "      <th>11</th>\n",
       "      <td>bully flush undecided uneasy hesitant twit</td>\n",
       "      <td>not_cyberbullying</td>\n",
       "    </tr>\n",
       "  </tbody>\n",
       "</table>\n",
       "</div>"
      ],
      "text/plain": [
       "                                           tweet_text cyberbullying_type\n",
       "0                                      word food crap  not_cyberbullying\n",
       "1                                               white  not_cyberbullying\n",
       "2                     classy whore red velvet cupcake  not_cyberbullying\n",
       "4                            account account like lie  not_cyberbullying\n",
       "5   yes test god good bad different weird whatever...  not_cyberbullying\n",
       "6                                 ya temp bully ga ne  not_cyberbullying\n",
       "7                      karma hope bite kat butt nasty  not_cyberbullying\n",
       "9                      black drop school due bullying  not_cyberbullying\n",
       "10                        undecided uneasy hesitant u  not_cyberbullying\n",
       "11         bully flush undecided uneasy hesitant twit  not_cyberbullying"
      ]
     },
     "execution_count": 242,
     "metadata": {},
     "output_type": "execute_result"
    }
   ],
   "source": [
    "# Join the tokenized tweet_text to check for duplicated rows\n",
    "df['tweet_text'] = df['tweet_text'].apply(lambda tokens: ' '.join(tokens))\n",
    "print(\"Total number of duplicated rows: \", df.duplicated().sum())"
   ]
  },
  {
   "cell_type": "code",
   "execution_count": 261,
   "metadata": {},
   "outputs": [
    {
     "data": {
      "text/html": [
       "<div>\n",
       "<style scoped>\n",
       "    .dataframe tbody tr th:only-of-type {\n",
       "        vertical-align: middle;\n",
       "    }\n",
       "\n",
       "    .dataframe tbody tr th {\n",
       "        vertical-align: top;\n",
       "    }\n",
       "\n",
       "    .dataframe thead th {\n",
       "        text-align: right;\n",
       "    }\n",
       "</style>\n",
       "<table border=\"1\" class=\"dataframe\">\n",
       "  <thead>\n",
       "    <tr style=\"text-align: right;\">\n",
       "      <th></th>\n",
       "      <th>tweet_text</th>\n",
       "      <th>cyberbullying_type</th>\n",
       "    </tr>\n",
       "  </thead>\n",
       "  <tbody>\n",
       "    <tr>\n",
       "      <th>26</th>\n",
       "      <td>bullying</td>\n",
       "      <td>not_cyberbullying</td>\n",
       "    </tr>\n",
       "    <tr>\n",
       "      <th>31</th>\n",
       "      <td></td>\n",
       "      <td>not_cyberbullying</td>\n",
       "    </tr>\n",
       "    <tr>\n",
       "      <th>39</th>\n",
       "      <td></td>\n",
       "      <td>not_cyberbullying</td>\n",
       "    </tr>\n",
       "    <tr>\n",
       "      <th>55</th>\n",
       "      <td></td>\n",
       "      <td>not_cyberbullying</td>\n",
       "    </tr>\n",
       "    <tr>\n",
       "      <th>83</th>\n",
       "      <td>bullying contra o sol</td>\n",
       "      <td>not_cyberbullying</td>\n",
       "    </tr>\n",
       "    <tr>\n",
       "      <th>...</th>\n",
       "      <td>...</td>\n",
       "      <td>...</td>\n",
       "    </tr>\n",
       "    <tr>\n",
       "      <th>47661</th>\n",
       "      <td>fat white bitch dumb nigger</td>\n",
       "      <td>ethnicity</td>\n",
       "    </tr>\n",
       "    <tr>\n",
       "      <th>47663</th>\n",
       "      <td>get dick tonight mad black man dumb nigger</td>\n",
       "      <td>ethnicity</td>\n",
       "    </tr>\n",
       "    <tr>\n",
       "      <th>47670</th>\n",
       "      <td>scale cracker pretzel salty dumb nigger</td>\n",
       "      <td>ethnicity</td>\n",
       "    </tr>\n",
       "    <tr>\n",
       "      <th>47674</th>\n",
       "      <td>ya dumb nigger</td>\n",
       "      <td>ethnicity</td>\n",
       "    </tr>\n",
       "    <tr>\n",
       "      <th>47690</th>\n",
       "      <td>yea nigger un follow dumb nigger</td>\n",
       "      <td>ethnicity</td>\n",
       "    </tr>\n",
       "  </tbody>\n",
       "</table>\n",
       "<p>2533 rows × 2 columns</p>\n",
       "</div>"
      ],
      "text/plain": [
       "                                       tweet_text cyberbullying_type\n",
       "26                                       bullying  not_cyberbullying\n",
       "31                                                 not_cyberbullying\n",
       "39                                                 not_cyberbullying\n",
       "55                                                 not_cyberbullying\n",
       "83                          bullying contra o sol  not_cyberbullying\n",
       "...                                           ...                ...\n",
       "47661                 fat white bitch dumb nigger          ethnicity\n",
       "47663  get dick tonight mad black man dumb nigger          ethnicity\n",
       "47670     scale cracker pretzel salty dumb nigger          ethnicity\n",
       "47674                              ya dumb nigger          ethnicity\n",
       "47690            yea nigger un follow dumb nigger          ethnicity\n",
       "\n",
       "[2533 rows x 2 columns]"
      ]
     },
     "execution_count": 261,
     "metadata": {},
     "output_type": "execute_result"
    }
   ],
   "source": [
    "# Remove duplicate rows\n",
    "duplicate_rows = df[df.duplicated(keep=False)]\n",
    "duplicate_rows"
   ]
  },
  {
   "cell_type": "code",
   "execution_count": 267,
   "metadata": {},
   "outputs": [
    {
     "data": {
      "text/plain": [
       "(43766, 2)"
      ]
     },
     "execution_count": 267,
     "metadata": {},
     "output_type": "execute_result"
    }
   ],
   "source": [
    "# Remove duplicate rows\n",
    "df.drop_duplicates(subset=[\"tweet_text\"], inplace=True)\n",
    "df.shape"
   ]
  },
  {
   "cell_type": "code",
   "execution_count": 272,
   "metadata": {},
   "outputs": [
    {
     "data": {
      "text/plain": [
       "0"
      ]
     },
     "execution_count": 272,
     "metadata": {},
     "output_type": "execute_result"
    }
   ],
   "source": [
    "# After removing duplicated rows\n",
    "df.duplicated().sum()"
   ]
  },
  {
   "cell_type": "code",
   "execution_count": 266,
   "metadata": {},
   "outputs": [
    {
     "data": {
      "text/html": [
       "<div>\n",
       "<style scoped>\n",
       "    .dataframe tbody tr th:only-of-type {\n",
       "        vertical-align: middle;\n",
       "    }\n",
       "\n",
       "    .dataframe tbody tr th {\n",
       "        vertical-align: top;\n",
       "    }\n",
       "\n",
       "    .dataframe thead th {\n",
       "        text-align: right;\n",
       "    }\n",
       "</style>\n",
       "<table border=\"1\" class=\"dataframe\">\n",
       "  <thead>\n",
       "    <tr style=\"text-align: right;\">\n",
       "      <th></th>\n",
       "      <th>tweet_text</th>\n",
       "      <th>cyberbullying_type</th>\n",
       "    </tr>\n",
       "  </thead>\n",
       "  <tbody>\n",
       "    <tr>\n",
       "      <th>40395</th>\n",
       "      <td>yea nigger un follow dumb nigger</td>\n",
       "      <td>ethnicity</td>\n",
       "    </tr>\n",
       "    <tr>\n",
       "      <th>47690</th>\n",
       "      <td>yea nigger un follow dumb nigger</td>\n",
       "      <td>ethnicity</td>\n",
       "    </tr>\n",
       "  </tbody>\n",
       "</table>\n",
       "</div>"
      ],
      "text/plain": [
       "                             tweet_text cyberbullying_type\n",
       "40395  yea nigger un follow dumb nigger          ethnicity\n",
       "47690  yea nigger un follow dumb nigger          ethnicity"
      ]
     },
     "execution_count": 266,
     "metadata": {},
     "output_type": "execute_result"
    }
   ],
   "source": [
    "df[df['tweet_text'] == '']"
   ]
  },
  {
   "cell_type": "code",
   "execution_count": 270,
   "metadata": {},
   "outputs": [
    {
     "data": {
      "text/html": [
       "<div>\n",
       "<style scoped>\n",
       "    .dataframe tbody tr th:only-of-type {\n",
       "        vertical-align: middle;\n",
       "    }\n",
       "\n",
       "    .dataframe tbody tr th {\n",
       "        vertical-align: top;\n",
       "    }\n",
       "\n",
       "    .dataframe thead th {\n",
       "        text-align: right;\n",
       "    }\n",
       "</style>\n",
       "<table border=\"1\" class=\"dataframe\">\n",
       "  <thead>\n",
       "    <tr style=\"text-align: right;\">\n",
       "      <th></th>\n",
       "      <th>tweet_text</th>\n",
       "      <th>cyberbullying_type</th>\n",
       "    </tr>\n",
       "  </thead>\n",
       "  <tbody>\n",
       "    <tr>\n",
       "      <th>31</th>\n",
       "      <td></td>\n",
       "      <td>not_cyberbullying</td>\n",
       "    </tr>\n",
       "  </tbody>\n",
       "</table>\n",
       "</div>"
      ],
      "text/plain": [
       "   tweet_text cyberbullying_type\n",
       "31             not_cyberbullying"
      ]
     },
     "execution_count": 270,
     "metadata": {},
     "output_type": "execute_result"
    }
   ],
   "source": [
    "df[df['tweet_text'] == '']"
   ]
  },
  {
   "cell_type": "code",
   "execution_count": 271,
   "metadata": {},
   "outputs": [
    {
     "data": {
      "text/plain": [
       "(43765, 2)"
      ]
     },
     "execution_count": 271,
     "metadata": {},
     "output_type": "execute_result"
    }
   ],
   "source": [
    "df = df[df['tweet_text'] != '']\n",
    "df.shape"
   ]
  },
  {
   "cell_type": "code",
   "execution_count": 273,
   "metadata": {},
   "outputs": [],
   "source": [
    "# Save joined dataset into new csv file\n",
    "df.to_csv('joined_cyberbullying_tweet.csv', index=False)"
   ]
  },
  {
   "cell_type": "code",
   "execution_count": 274,
   "metadata": {},
   "outputs": [
    {
     "data": {
      "text/html": [
       "<div>\n",
       "<style scoped>\n",
       "    .dataframe tbody tr th:only-of-type {\n",
       "        vertical-align: middle;\n",
       "    }\n",
       "\n",
       "    .dataframe tbody tr th {\n",
       "        vertical-align: top;\n",
       "    }\n",
       "\n",
       "    .dataframe thead th {\n",
       "        text-align: right;\n",
       "    }\n",
       "</style>\n",
       "<table border=\"1\" class=\"dataframe\">\n",
       "  <thead>\n",
       "    <tr style=\"text-align: right;\">\n",
       "      <th></th>\n",
       "      <th>tweet_text</th>\n",
       "      <th>cyberbullying_type</th>\n",
       "    </tr>\n",
       "  </thead>\n",
       "  <tbody>\n",
       "    <tr>\n",
       "      <th>0</th>\n",
       "      <td>[word, food, crap]</td>\n",
       "      <td>not_cyberbullying</td>\n",
       "    </tr>\n",
       "    <tr>\n",
       "      <th>1</th>\n",
       "      <td>[white]</td>\n",
       "      <td>not_cyberbullying</td>\n",
       "    </tr>\n",
       "    <tr>\n",
       "      <th>2</th>\n",
       "      <td>[classy, whore, red, velvet, cupcake]</td>\n",
       "      <td>not_cyberbullying</td>\n",
       "    </tr>\n",
       "    <tr>\n",
       "      <th>4</th>\n",
       "      <td>[account, account, like, lie]</td>\n",
       "      <td>not_cyberbullying</td>\n",
       "    </tr>\n",
       "    <tr>\n",
       "      <th>5</th>\n",
       "      <td>[yes, test, god, good, bad, different, weird, ...</td>\n",
       "      <td>not_cyberbullying</td>\n",
       "    </tr>\n",
       "    <tr>\n",
       "      <th>...</th>\n",
       "      <td>...</td>\n",
       "      <td>...</td>\n",
       "    </tr>\n",
       "    <tr>\n",
       "      <th>47686</th>\n",
       "      <td>[shut, dumb, acting, like, nagging, nigger]</td>\n",
       "      <td>ethnicity</td>\n",
       "    </tr>\n",
       "    <tr>\n",
       "      <th>47687</th>\n",
       "      <td>[black, people, anything, anything, yet, free,...</td>\n",
       "      <td>ethnicity</td>\n",
       "    </tr>\n",
       "    <tr>\n",
       "      <th>47688</th>\n",
       "      <td>[turner, withhold, disappointment, turner, cou...</td>\n",
       "      <td>ethnicity</td>\n",
       "    </tr>\n",
       "    <tr>\n",
       "      <th>47689</th>\n",
       "      <td>[swear, god, dumb, nigger, bitch, got, bleach,...</td>\n",
       "      <td>ethnicity</td>\n",
       "    </tr>\n",
       "    <tr>\n",
       "      <th>47691</th>\n",
       "      <td>[got, chill, dog, dumb, nigger, bitch, mao]</td>\n",
       "      <td>ethnicity</td>\n",
       "    </tr>\n",
       "  </tbody>\n",
       "</table>\n",
       "<p>43765 rows × 2 columns</p>\n",
       "</div>"
      ],
      "text/plain": [
       "                                              tweet_text cyberbullying_type\n",
       "0                                     [word, food, crap]  not_cyberbullying\n",
       "1                                                [white]  not_cyberbullying\n",
       "2                  [classy, whore, red, velvet, cupcake]  not_cyberbullying\n",
       "4                          [account, account, like, lie]  not_cyberbullying\n",
       "5      [yes, test, god, good, bad, different, weird, ...  not_cyberbullying\n",
       "...                                                  ...                ...\n",
       "47686        [shut, dumb, acting, like, nagging, nigger]          ethnicity\n",
       "47687  [black, people, anything, anything, yet, free,...          ethnicity\n",
       "47688  [turner, withhold, disappointment, turner, cou...          ethnicity\n",
       "47689  [swear, god, dumb, nigger, bitch, got, bleach,...          ethnicity\n",
       "47691        [got, chill, dog, dumb, nigger, bitch, mao]          ethnicity\n",
       "\n",
       "[43765 rows x 2 columns]"
      ]
     },
     "execution_count": 274,
     "metadata": {},
     "output_type": "execute_result"
    }
   ],
   "source": [
    "df_tokenized = df.copy()\n",
    "df_tokenized['tweet_text'] = df_tokenized['tweet_text'].apply(tokenize_text)\n",
    "df_tokenized"
   ]
  },
  {
   "cell_type": "code",
   "execution_count": 275,
   "metadata": {},
   "outputs": [],
   "source": [
    "# Save tokenized preprocessed dataset into new csv file\n",
    "df_tokenized.to_csv('tokenized_cyberbullying_tweet.csv', index=False)"
   ]
  },
  {
   "cell_type": "code",
   "execution_count": 280,
   "metadata": {},
   "outputs": [
    {
     "data": {
      "text/plain": [
       "0"
      ]
     },
     "execution_count": 280,
     "metadata": {},
     "output_type": "execute_result"
    }
   ],
   "source": [
    "df1 = pd.read_csv('joined_cyberbullying_tweet.csv')\n",
    "df1.duplicated().sum()"
   ]
  }
 ],
 "metadata": {
  "kernelspec": {
   "display_name": "Python 3",
   "language": "python",
   "name": "python3"
  },
  "language_info": {
   "codemirror_mode": {
    "name": "ipython",
    "version": 3
   },
   "file_extension": ".py",
   "mimetype": "text/x-python",
   "name": "python",
   "nbconvert_exporter": "python",
   "pygments_lexer": "ipython3",
   "version": "3.10.5"
  }
 },
 "nbformat": 4,
 "nbformat_minor": 2
}
